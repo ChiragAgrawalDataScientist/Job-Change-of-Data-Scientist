{
  "nbformat": 4,
  "nbformat_minor": 0,
  "metadata": {
    "colab": {
      "name": "Complete code with final model",
      "provenance": [],
      "collapsed_sections": [],
      "toc_visible": true
    },
    "kernelspec": {
      "name": "python3",
      "display_name": "Python 3"
    }
  },
  "cells": [
    {
      "cell_type": "code",
      "metadata": {
        "id": "q3ZSF71lrpiv",
        "colab": {
          "base_uri": "https://localhost:8080/"
        },
        "outputId": "4f05411f-8faf-49fc-d125-bcbecf0d643f"
      },
      "source": [
        "import pandas as pd\n",
        "import numpy as np\n",
        "from sklearn.preprocessing import LabelEncoder, StandardScaler\n",
        "from sklearn.experimental import enable_iterative_imputer\n",
        "from sklearn.impute import IterativeImputer\n",
        "from sklearn.linear_model import LinearRegression, LogisticRegression\n",
        "import seaborn as sns\n",
        "import matplotlib.pyplot as plt\n",
        "from sklearn.model_selection import train_test_split as tts, RandomizedSearchCV\n",
        "from sklearn.metrics import classification_report, confusion_matrix, recall_score, f1_score, precision_score, roc_auc_score, roc_curve, auc\n",
        "from lightgbm.sklearn import LGBMClassifier\n",
        "from sklearn.ensemble import RandomForestClassifier\n",
        "from sklearn.tree import DecisionTreeClassifier \n",
        "import six\n",
        "import sys\n",
        "sys.modules['sklearn.externals.six'] = six\n",
        "from imblearn.over_sampling import SVMSMOTE\n",
        "from imblearn.ensemble import EasyEnsembleClassifier\n",
        "from sklearn.inspection import permutation_importance\n",
        "import eli5\n",
        "from eli5.sklearn import PermutationImportance"
      ],
      "execution_count": 15,
      "outputs": [
        {
          "output_type": "stream",
          "text": [
            "/usr/local/lib/python3.7/dist-packages/sklearn/utils/deprecation.py:144: FutureWarning: The sklearn.feature_selection.base module is  deprecated in version 0.22 and will be removed in version 0.24. The corresponding classes / functions should instead be imported from sklearn.feature_selection. Anything that cannot be imported from sklearn.feature_selection is now part of the private API.\n",
            "  warnings.warn(message, FutureWarning)\n"
          ],
          "name": "stderr"
        }
      ]
    },
    {
      "cell_type": "markdown",
      "metadata": {
        "id": "E5-yKyxXFp_D"
      },
      "source": [
        "#Import Train Data"
      ]
    },
    {
      "cell_type": "code",
      "metadata": {
        "colab": {
          "base_uri": "https://localhost:8080/",
          "height": 925
        },
        "id": "bw6EbRkiH5v3",
        "outputId": "4799cf4e-5956-45b0-bf73-7a00bc0e8691"
      },
      "source": [
        "missing_values = [\"n/a\", \"na\", \"--\", \"NONE\", \"None\", \"none\", \"NA\", \"N/A\",'inf','-inf', '?', 'Null', 'NULL']\n",
        "train_data = pd.read_csv('aug_train.csv', na_values = missing_values)\n",
        "train_data.drop(['enrollee_id', 'city'], 1, inplace=True)\n",
        "train_data.head(20)"
      ],
      "execution_count": 23,
      "outputs": [
        {
          "output_type": "execute_result",
          "data": {
            "text/html": [
              "<div>\n",
              "<style scoped>\n",
              "    .dataframe tbody tr th:only-of-type {\n",
              "        vertical-align: middle;\n",
              "    }\n",
              "\n",
              "    .dataframe tbody tr th {\n",
              "        vertical-align: top;\n",
              "    }\n",
              "\n",
              "    .dataframe thead th {\n",
              "        text-align: right;\n",
              "    }\n",
              "</style>\n",
              "<table border=\"1\" class=\"dataframe\">\n",
              "  <thead>\n",
              "    <tr style=\"text-align: right;\">\n",
              "      <th></th>\n",
              "      <th>city_development_index</th>\n",
              "      <th>gender</th>\n",
              "      <th>relevent_experience</th>\n",
              "      <th>enrolled_university</th>\n",
              "      <th>education_level</th>\n",
              "      <th>major_discipline</th>\n",
              "      <th>experience</th>\n",
              "      <th>company_size</th>\n",
              "      <th>company_type</th>\n",
              "      <th>last_new_job</th>\n",
              "      <th>training_hours</th>\n",
              "      <th>target</th>\n",
              "    </tr>\n",
              "  </thead>\n",
              "  <tbody>\n",
              "    <tr>\n",
              "      <th>0</th>\n",
              "      <td>0.920</td>\n",
              "      <td>Male</td>\n",
              "      <td>Has relevent experience</td>\n",
              "      <td>no_enrollment</td>\n",
              "      <td>Graduate</td>\n",
              "      <td>STEM</td>\n",
              "      <td>&gt;20</td>\n",
              "      <td>NaN</td>\n",
              "      <td>NaN</td>\n",
              "      <td>1</td>\n",
              "      <td>36</td>\n",
              "      <td>1.0</td>\n",
              "    </tr>\n",
              "    <tr>\n",
              "      <th>1</th>\n",
              "      <td>0.776</td>\n",
              "      <td>Male</td>\n",
              "      <td>No relevent experience</td>\n",
              "      <td>no_enrollment</td>\n",
              "      <td>Graduate</td>\n",
              "      <td>STEM</td>\n",
              "      <td>15</td>\n",
              "      <td>50-99</td>\n",
              "      <td>Pvt Ltd</td>\n",
              "      <td>&gt;4</td>\n",
              "      <td>47</td>\n",
              "      <td>0.0</td>\n",
              "    </tr>\n",
              "    <tr>\n",
              "      <th>2</th>\n",
              "      <td>0.624</td>\n",
              "      <td>NaN</td>\n",
              "      <td>No relevent experience</td>\n",
              "      <td>Full time course</td>\n",
              "      <td>Graduate</td>\n",
              "      <td>STEM</td>\n",
              "      <td>5</td>\n",
              "      <td>NaN</td>\n",
              "      <td>NaN</td>\n",
              "      <td>never</td>\n",
              "      <td>83</td>\n",
              "      <td>0.0</td>\n",
              "    </tr>\n",
              "    <tr>\n",
              "      <th>3</th>\n",
              "      <td>0.789</td>\n",
              "      <td>NaN</td>\n",
              "      <td>No relevent experience</td>\n",
              "      <td>NaN</td>\n",
              "      <td>Graduate</td>\n",
              "      <td>Business Degree</td>\n",
              "      <td>&lt;1</td>\n",
              "      <td>NaN</td>\n",
              "      <td>Pvt Ltd</td>\n",
              "      <td>never</td>\n",
              "      <td>52</td>\n",
              "      <td>1.0</td>\n",
              "    </tr>\n",
              "    <tr>\n",
              "      <th>4</th>\n",
              "      <td>0.767</td>\n",
              "      <td>Male</td>\n",
              "      <td>Has relevent experience</td>\n",
              "      <td>no_enrollment</td>\n",
              "      <td>Masters</td>\n",
              "      <td>STEM</td>\n",
              "      <td>&gt;20</td>\n",
              "      <td>50-99</td>\n",
              "      <td>Funded Startup</td>\n",
              "      <td>4</td>\n",
              "      <td>8</td>\n",
              "      <td>0.0</td>\n",
              "    </tr>\n",
              "    <tr>\n",
              "      <th>5</th>\n",
              "      <td>0.764</td>\n",
              "      <td>NaN</td>\n",
              "      <td>Has relevent experience</td>\n",
              "      <td>Part time course</td>\n",
              "      <td>Graduate</td>\n",
              "      <td>STEM</td>\n",
              "      <td>11</td>\n",
              "      <td>NaN</td>\n",
              "      <td>NaN</td>\n",
              "      <td>1</td>\n",
              "      <td>24</td>\n",
              "      <td>1.0</td>\n",
              "    </tr>\n",
              "    <tr>\n",
              "      <th>6</th>\n",
              "      <td>0.920</td>\n",
              "      <td>Male</td>\n",
              "      <td>Has relevent experience</td>\n",
              "      <td>no_enrollment</td>\n",
              "      <td>High School</td>\n",
              "      <td>NaN</td>\n",
              "      <td>5</td>\n",
              "      <td>50-99</td>\n",
              "      <td>Funded Startup</td>\n",
              "      <td>1</td>\n",
              "      <td>24</td>\n",
              "      <td>0.0</td>\n",
              "    </tr>\n",
              "    <tr>\n",
              "      <th>7</th>\n",
              "      <td>0.762</td>\n",
              "      <td>Male</td>\n",
              "      <td>Has relevent experience</td>\n",
              "      <td>no_enrollment</td>\n",
              "      <td>Graduate</td>\n",
              "      <td>STEM</td>\n",
              "      <td>13</td>\n",
              "      <td>&lt;10</td>\n",
              "      <td>Pvt Ltd</td>\n",
              "      <td>&gt;4</td>\n",
              "      <td>18</td>\n",
              "      <td>1.0</td>\n",
              "    </tr>\n",
              "    <tr>\n",
              "      <th>8</th>\n",
              "      <td>0.920</td>\n",
              "      <td>Male</td>\n",
              "      <td>Has relevent experience</td>\n",
              "      <td>no_enrollment</td>\n",
              "      <td>Graduate</td>\n",
              "      <td>STEM</td>\n",
              "      <td>7</td>\n",
              "      <td>50-99</td>\n",
              "      <td>Pvt Ltd</td>\n",
              "      <td>1</td>\n",
              "      <td>46</td>\n",
              "      <td>1.0</td>\n",
              "    </tr>\n",
              "    <tr>\n",
              "      <th>9</th>\n",
              "      <td>0.920</td>\n",
              "      <td>NaN</td>\n",
              "      <td>Has relevent experience</td>\n",
              "      <td>no_enrollment</td>\n",
              "      <td>Graduate</td>\n",
              "      <td>STEM</td>\n",
              "      <td>17</td>\n",
              "      <td>10000+</td>\n",
              "      <td>Pvt Ltd</td>\n",
              "      <td>&gt;4</td>\n",
              "      <td>123</td>\n",
              "      <td>0.0</td>\n",
              "    </tr>\n",
              "    <tr>\n",
              "      <th>10</th>\n",
              "      <td>0.624</td>\n",
              "      <td>NaN</td>\n",
              "      <td>No relevent experience</td>\n",
              "      <td>Full time course</td>\n",
              "      <td>High School</td>\n",
              "      <td>NaN</td>\n",
              "      <td>2</td>\n",
              "      <td>NaN</td>\n",
              "      <td>NaN</td>\n",
              "      <td>never</td>\n",
              "      <td>32</td>\n",
              "      <td>1.0</td>\n",
              "    </tr>\n",
              "    <tr>\n",
              "      <th>11</th>\n",
              "      <td>0.920</td>\n",
              "      <td>Male</td>\n",
              "      <td>Has relevent experience</td>\n",
              "      <td>no_enrollment</td>\n",
              "      <td>Graduate</td>\n",
              "      <td>STEM</td>\n",
              "      <td>5</td>\n",
              "      <td>5000-9999</td>\n",
              "      <td>Pvt Ltd</td>\n",
              "      <td>1</td>\n",
              "      <td>108</td>\n",
              "      <td>0.0</td>\n",
              "    </tr>\n",
              "    <tr>\n",
              "      <th>12</th>\n",
              "      <td>0.913</td>\n",
              "      <td>Male</td>\n",
              "      <td>Has relevent experience</td>\n",
              "      <td>no_enrollment</td>\n",
              "      <td>Graduate</td>\n",
              "      <td>STEM</td>\n",
              "      <td>&gt;20</td>\n",
              "      <td>1000-4999</td>\n",
              "      <td>Pvt Ltd</td>\n",
              "      <td>3</td>\n",
              "      <td>23</td>\n",
              "      <td>0.0</td>\n",
              "    </tr>\n",
              "    <tr>\n",
              "      <th>13</th>\n",
              "      <td>0.624</td>\n",
              "      <td>Male</td>\n",
              "      <td>No relevent experience</td>\n",
              "      <td>NaN</td>\n",
              "      <td>NaN</td>\n",
              "      <td>NaN</td>\n",
              "      <td>2</td>\n",
              "      <td>NaN</td>\n",
              "      <td>NaN</td>\n",
              "      <td>never</td>\n",
              "      <td>24</td>\n",
              "      <td>0.0</td>\n",
              "    </tr>\n",
              "    <tr>\n",
              "      <th>14</th>\n",
              "      <td>0.624</td>\n",
              "      <td>NaN</td>\n",
              "      <td>No relevent experience</td>\n",
              "      <td>Full time course</td>\n",
              "      <td>High School</td>\n",
              "      <td>NaN</td>\n",
              "      <td>5</td>\n",
              "      <td>NaN</td>\n",
              "      <td>NaN</td>\n",
              "      <td>never</td>\n",
              "      <td>26</td>\n",
              "      <td>0.0</td>\n",
              "    </tr>\n",
              "    <tr>\n",
              "      <th>15</th>\n",
              "      <td>0.926</td>\n",
              "      <td>Male</td>\n",
              "      <td>Has relevent experience</td>\n",
              "      <td>no_enrollment</td>\n",
              "      <td>Graduate</td>\n",
              "      <td>STEM</td>\n",
              "      <td>16</td>\n",
              "      <td>10/49</td>\n",
              "      <td>Pvt Ltd</td>\n",
              "      <td>&gt;4</td>\n",
              "      <td>18</td>\n",
              "      <td>0.0</td>\n",
              "    </tr>\n",
              "    <tr>\n",
              "      <th>16</th>\n",
              "      <td>0.920</td>\n",
              "      <td>NaN</td>\n",
              "      <td>Has relevent experience</td>\n",
              "      <td>no_enrollment</td>\n",
              "      <td>Graduate</td>\n",
              "      <td>STEM</td>\n",
              "      <td>1</td>\n",
              "      <td>50-99</td>\n",
              "      <td>Pvt Ltd</td>\n",
              "      <td>never</td>\n",
              "      <td>106</td>\n",
              "      <td>0.0</td>\n",
              "    </tr>\n",
              "    <tr>\n",
              "      <th>17</th>\n",
              "      <td>0.624</td>\n",
              "      <td>NaN</td>\n",
              "      <td>Has relevent experience</td>\n",
              "      <td>no_enrollment</td>\n",
              "      <td>Graduate</td>\n",
              "      <td>STEM</td>\n",
              "      <td>2</td>\n",
              "      <td>5000-9999</td>\n",
              "      <td>Pvt Ltd</td>\n",
              "      <td>2</td>\n",
              "      <td>7</td>\n",
              "      <td>0.0</td>\n",
              "    </tr>\n",
              "    <tr>\n",
              "      <th>18</th>\n",
              "      <td>0.624</td>\n",
              "      <td>NaN</td>\n",
              "      <td>Has relevent experience</td>\n",
              "      <td>no_enrollment</td>\n",
              "      <td>Graduate</td>\n",
              "      <td>STEM</td>\n",
              "      <td>7</td>\n",
              "      <td>10000+</td>\n",
              "      <td>Pvt Ltd</td>\n",
              "      <td>never</td>\n",
              "      <td>23</td>\n",
              "      <td>1.0</td>\n",
              "    </tr>\n",
              "    <tr>\n",
              "      <th>19</th>\n",
              "      <td>0.827</td>\n",
              "      <td>Female</td>\n",
              "      <td>Has relevent experience</td>\n",
              "      <td>no_enrollment</td>\n",
              "      <td>Graduate</td>\n",
              "      <td>Arts</td>\n",
              "      <td>4</td>\n",
              "      <td>NaN</td>\n",
              "      <td>NaN</td>\n",
              "      <td>1</td>\n",
              "      <td>132</td>\n",
              "      <td>1.0</td>\n",
              "    </tr>\n",
              "  </tbody>\n",
              "</table>\n",
              "</div>"
            ],
            "text/plain": [
              "    city_development_index  gender  ... training_hours target\n",
              "0                    0.920    Male  ...             36    1.0\n",
              "1                    0.776    Male  ...             47    0.0\n",
              "2                    0.624     NaN  ...             83    0.0\n",
              "3                    0.789     NaN  ...             52    1.0\n",
              "4                    0.767    Male  ...              8    0.0\n",
              "5                    0.764     NaN  ...             24    1.0\n",
              "6                    0.920    Male  ...             24    0.0\n",
              "7                    0.762    Male  ...             18    1.0\n",
              "8                    0.920    Male  ...             46    1.0\n",
              "9                    0.920     NaN  ...            123    0.0\n",
              "10                   0.624     NaN  ...             32    1.0\n",
              "11                   0.920    Male  ...            108    0.0\n",
              "12                   0.913    Male  ...             23    0.0\n",
              "13                   0.624    Male  ...             24    0.0\n",
              "14                   0.624     NaN  ...             26    0.0\n",
              "15                   0.926    Male  ...             18    0.0\n",
              "16                   0.920     NaN  ...            106    0.0\n",
              "17                   0.624     NaN  ...              7    0.0\n",
              "18                   0.624     NaN  ...             23    1.0\n",
              "19                   0.827  Female  ...            132    1.0\n",
              "\n",
              "[20 rows x 12 columns]"
            ]
          },
          "metadata": {
            "tags": []
          },
          "execution_count": 23
        }
      ]
    },
    {
      "cell_type": "code",
      "metadata": {
        "colab": {
          "base_uri": "https://localhost:8080/"
        },
        "id": "IhvZpmPh58PK",
        "outputId": "c52fc572-ec10-4904-bb26-ee8c40a77133"
      },
      "source": [
        "train_data.shape"
      ],
      "execution_count": null,
      "outputs": [
        {
          "output_type": "execute_result",
          "data": {
            "text/plain": [
              "(19158, 12)"
            ]
          },
          "metadata": {
            "tags": []
          },
          "execution_count": 3
        }
      ]
    },
    {
      "cell_type": "code",
      "metadata": {
        "colab": {
          "base_uri": "https://localhost:8080/"
        },
        "id": "sOvN_oC-IqrC",
        "outputId": "7336f7cc-f922-4ca6-a336-e16eb318576f"
      },
      "source": [
        "train_data.info()"
      ],
      "execution_count": null,
      "outputs": [
        {
          "output_type": "stream",
          "text": [
            "<class 'pandas.core.frame.DataFrame'>\n",
            "RangeIndex: 19158 entries, 0 to 19157\n",
            "Data columns (total 12 columns):\n",
            " #   Column                  Non-Null Count  Dtype  \n",
            "---  ------                  --------------  -----  \n",
            " 0   city_development_index  19158 non-null  float64\n",
            " 1   gender                  14650 non-null  object \n",
            " 2   relevent_experience     19158 non-null  object \n",
            " 3   enrolled_university     18772 non-null  object \n",
            " 4   education_level         18698 non-null  object \n",
            " 5   major_discipline        16345 non-null  object \n",
            " 6   experience              19093 non-null  object \n",
            " 7   company_size            13220 non-null  object \n",
            " 8   company_type            13018 non-null  object \n",
            " 9   last_new_job            18735 non-null  object \n",
            " 10  training_hours          19158 non-null  int64  \n",
            " 11  target                  19158 non-null  float64\n",
            "dtypes: float64(2), int64(1), object(9)\n",
            "memory usage: 1.8+ MB\n"
          ],
          "name": "stdout"
        }
      ]
    },
    {
      "cell_type": "code",
      "metadata": {
        "colab": {
          "base_uri": "https://localhost:8080/"
        },
        "id": "n9HRA-ISCUjh",
        "outputId": "7fffbe20-bb83-4f23-9369-e26c647d80fc"
      },
      "source": [
        "train_data.training_hours.value_counts()"
      ],
      "execution_count": null,
      "outputs": [
        {
          "output_type": "execute_result",
          "data": {
            "text/plain": [
              "28     329\n",
              "12     292\n",
              "18     291\n",
              "22     282\n",
              "50     279\n",
              "      ... \n",
              "266      6\n",
              "272      5\n",
              "234      5\n",
              "286      5\n",
              "238      4\n",
              "Name: training_hours, Length: 241, dtype: int64"
            ]
          },
          "metadata": {
            "tags": []
          },
          "execution_count": 26
        }
      ]
    },
    {
      "cell_type": "markdown",
      "metadata": {
        "id": "wUZmvdCFGFDr"
      },
      "source": [
        "In the dataset, there is some Human error in column company size i.e. Oct-49 and in pandas it was printed as 10/49, so we need to convert into np.nan(NaN)"
      ]
    },
    {
      "cell_type": "code",
      "metadata": {
        "colab": {
          "base_uri": "https://localhost:8080/"
        },
        "id": "wWZun-XCQAVL",
        "outputId": "66800316-eb6a-44a9-d42c-29d4f556aad5"
      },
      "source": [
        "print(train_data.company_size.value_counts())\n",
        "train_data['company_size'] = train_data['company_size'].replace('10/49', np.nan)\n",
        "print(\"==============================\")\n",
        "print(train_data.company_size.value_counts())"
      ],
      "execution_count": 24,
      "outputs": [
        {
          "output_type": "stream",
          "text": [
            "50-99        3083\n",
            "100-500      2571\n",
            "10000+       2019\n",
            "10/49        1471\n",
            "1000-4999    1328\n",
            "<10          1308\n",
            "500-999       877\n",
            "5000-9999     563\n",
            "Name: company_size, dtype: int64\n",
            "==============================\n",
            "50-99        3083\n",
            "100-500      2571\n",
            "10000+       2019\n",
            "1000-4999    1328\n",
            "<10          1308\n",
            "500-999       877\n",
            "5000-9999     563\n",
            "Name: company_size, dtype: int64\n"
          ],
          "name": "stdout"
        }
      ]
    },
    {
      "cell_type": "markdown",
      "metadata": {
        "id": "rlsj7qcgGbHi"
      },
      "source": [
        "This is just to check how many unique values are present in each column"
      ]
    },
    {
      "cell_type": "code",
      "metadata": {
        "colab": {
          "base_uri": "https://localhost:8080/"
        },
        "id": "2kjeNjW7Il2_",
        "outputId": "784a919a-b49b-43b8-daf7-6afe0ae73201"
      },
      "source": [
        "for col_name in train_data.columns:\n",
        "  if (train_data[col_name].dtypes == 'int64' or train_data[col_name].dtypes == 'float64' or train_data[col_name].dtypes == 'object'):\n",
        "    unique_cat = len(train_data[col_name].unique())\n",
        "    print(\"Feature '{col_name}' has '{unique_cat}' unique categories\".format(col_name = col_name, unique_cat = unique_cat))"
      ],
      "execution_count": null,
      "outputs": [
        {
          "output_type": "stream",
          "text": [
            "Feature 'city_development_index' has '93' unique categories\n",
            "Feature 'gender' has '4' unique categories\n",
            "Feature 'relevent_experience' has '2' unique categories\n",
            "Feature 'enrolled_university' has '4' unique categories\n",
            "Feature 'education_level' has '6' unique categories\n",
            "Feature 'major_discipline' has '7' unique categories\n",
            "Feature 'experience' has '23' unique categories\n",
            "Feature 'company_size' has '8' unique categories\n",
            "Feature 'company_type' has '7' unique categories\n",
            "Feature 'last_new_job' has '7' unique categories\n",
            "Feature 'training_hours' has '241' unique categories\n",
            "Feature 'target' has '2' unique categories\n"
          ],
          "name": "stdout"
        }
      ]
    },
    {
      "cell_type": "markdown",
      "metadata": {
        "id": "V8FpaL8aHL7-"
      },
      "source": [
        "Checking the null values and we noticed 38% missing values in company size 32% in company type"
      ]
    },
    {
      "cell_type": "code",
      "metadata": {
        "colab": {
          "base_uri": "https://localhost:8080/"
        },
        "id": "nfioAtTtLK8J",
        "outputId": "9397be0e-1410-4f6c-f930-76b9430b4f30"
      },
      "source": [
        "train_data.isnull().sum()"
      ],
      "execution_count": null,
      "outputs": [
        {
          "output_type": "execute_result",
          "data": {
            "text/plain": [
              "city_development_index       0\n",
              "gender                    4508\n",
              "relevent_experience          0\n",
              "enrolled_university        386\n",
              "education_level            460\n",
              "major_discipline          2813\n",
              "experience                  65\n",
              "company_size              7409\n",
              "company_type              6140\n",
              "last_new_job               423\n",
              "training_hours               0\n",
              "target                       0\n",
              "dtype: int64"
            ]
          },
          "metadata": {
            "tags": []
          },
          "execution_count": 7
        }
      ]
    },
    {
      "cell_type": "markdown",
      "metadata": {
        "id": "jSo8N_rui5CJ"
      },
      "source": [
        "#Label encoder"
      ]
    },
    {
      "cell_type": "code",
      "metadata": {
        "id": "wQ_O2twOsJ0L"
      },
      "source": [
        "to_LabelEncode = train_data[['gender', 'relevent_experience',\n",
        "       'enrolled_university', 'education_level', 'major_discipline',\n",
        "       'experience', 'company_size', 'company_type', 'last_new_job']]\n",
        "\n",
        "le = LabelEncoder()\n",
        "train_temp = to_LabelEncode.astype(\"str\").apply(le.fit_transform)\n",
        "train_Label_encode = train_temp.where(~to_LabelEncode.isna(), to_LabelEncode)"
      ],
      "execution_count": 25,
      "outputs": []
    },
    {
      "cell_type": "code",
      "metadata": {
        "colab": {
          "base_uri": "https://localhost:8080/",
          "height": 416
        },
        "id": "Kpb3m_VPsUT9",
        "outputId": "fcc5a90d-96c8-470e-efee-cccaaf94b036"
      },
      "source": [
        "train_Label_encode"
      ],
      "execution_count": null,
      "outputs": [
        {
          "output_type": "execute_result",
          "data": {
            "text/html": [
              "<div>\n",
              "<style scoped>\n",
              "    .dataframe tbody tr th:only-of-type {\n",
              "        vertical-align: middle;\n",
              "    }\n",
              "\n",
              "    .dataframe tbody tr th {\n",
              "        vertical-align: top;\n",
              "    }\n",
              "\n",
              "    .dataframe thead th {\n",
              "        text-align: right;\n",
              "    }\n",
              "</style>\n",
              "<table border=\"1\" class=\"dataframe\">\n",
              "  <thead>\n",
              "    <tr style=\"text-align: right;\">\n",
              "      <th></th>\n",
              "      <th>gender</th>\n",
              "      <th>relevent_experience</th>\n",
              "      <th>enrolled_university</th>\n",
              "      <th>education_level</th>\n",
              "      <th>major_discipline</th>\n",
              "      <th>experience</th>\n",
              "      <th>company_size</th>\n",
              "      <th>company_type</th>\n",
              "      <th>last_new_job</th>\n",
              "    </tr>\n",
              "  </thead>\n",
              "  <tbody>\n",
              "    <tr>\n",
              "      <th>0</th>\n",
              "      <td>1</td>\n",
              "      <td>0</td>\n",
              "      <td>3</td>\n",
              "      <td>0</td>\n",
              "      <td>5</td>\n",
              "      <td>21</td>\n",
              "      <td>NaN</td>\n",
              "      <td>NaN</td>\n",
              "      <td>0</td>\n",
              "    </tr>\n",
              "    <tr>\n",
              "      <th>1</th>\n",
              "      <td>1</td>\n",
              "      <td>1</td>\n",
              "      <td>3</td>\n",
              "      <td>0</td>\n",
              "      <td>5</td>\n",
              "      <td>6</td>\n",
              "      <td>3</td>\n",
              "      <td>5</td>\n",
              "      <td>4</td>\n",
              "    </tr>\n",
              "    <tr>\n",
              "      <th>2</th>\n",
              "      <td>NaN</td>\n",
              "      <td>1</td>\n",
              "      <td>0</td>\n",
              "      <td>0</td>\n",
              "      <td>5</td>\n",
              "      <td>15</td>\n",
              "      <td>NaN</td>\n",
              "      <td>NaN</td>\n",
              "      <td>6</td>\n",
              "    </tr>\n",
              "    <tr>\n",
              "      <th>3</th>\n",
              "      <td>NaN</td>\n",
              "      <td>1</td>\n",
              "      <td>NaN</td>\n",
              "      <td>0</td>\n",
              "      <td>1</td>\n",
              "      <td>20</td>\n",
              "      <td>NaN</td>\n",
              "      <td>5</td>\n",
              "      <td>6</td>\n",
              "    </tr>\n",
              "    <tr>\n",
              "      <th>4</th>\n",
              "      <td>1</td>\n",
              "      <td>0</td>\n",
              "      <td>3</td>\n",
              "      <td>2</td>\n",
              "      <td>5</td>\n",
              "      <td>21</td>\n",
              "      <td>3</td>\n",
              "      <td>1</td>\n",
              "      <td>3</td>\n",
              "    </tr>\n",
              "    <tr>\n",
              "      <th>...</th>\n",
              "      <td>...</td>\n",
              "      <td>...</td>\n",
              "      <td>...</td>\n",
              "      <td>...</td>\n",
              "      <td>...</td>\n",
              "      <td>...</td>\n",
              "      <td>...</td>\n",
              "      <td>...</td>\n",
              "      <td>...</td>\n",
              "    </tr>\n",
              "    <tr>\n",
              "      <th>19153</th>\n",
              "      <td>1</td>\n",
              "      <td>1</td>\n",
              "      <td>3</td>\n",
              "      <td>0</td>\n",
              "      <td>2</td>\n",
              "      <td>5</td>\n",
              "      <td>NaN</td>\n",
              "      <td>NaN</td>\n",
              "      <td>0</td>\n",
              "    </tr>\n",
              "    <tr>\n",
              "      <th>19154</th>\n",
              "      <td>1</td>\n",
              "      <td>0</td>\n",
              "      <td>3</td>\n",
              "      <td>0</td>\n",
              "      <td>5</td>\n",
              "      <td>5</td>\n",
              "      <td>NaN</td>\n",
              "      <td>NaN</td>\n",
              "      <td>3</td>\n",
              "    </tr>\n",
              "    <tr>\n",
              "      <th>19155</th>\n",
              "      <td>1</td>\n",
              "      <td>0</td>\n",
              "      <td>3</td>\n",
              "      <td>0</td>\n",
              "      <td>5</td>\n",
              "      <td>21</td>\n",
              "      <td>3</td>\n",
              "      <td>5</td>\n",
              "      <td>3</td>\n",
              "    </tr>\n",
              "    <tr>\n",
              "      <th>19156</th>\n",
              "      <td>1</td>\n",
              "      <td>0</td>\n",
              "      <td>3</td>\n",
              "      <td>1</td>\n",
              "      <td>NaN</td>\n",
              "      <td>20</td>\n",
              "      <td>4</td>\n",
              "      <td>5</td>\n",
              "      <td>1</td>\n",
              "    </tr>\n",
              "    <tr>\n",
              "      <th>19157</th>\n",
              "      <td>NaN</td>\n",
              "      <td>1</td>\n",
              "      <td>3</td>\n",
              "      <td>4</td>\n",
              "      <td>NaN</td>\n",
              "      <td>11</td>\n",
              "      <td>NaN</td>\n",
              "      <td>NaN</td>\n",
              "      <td>0</td>\n",
              "    </tr>\n",
              "  </tbody>\n",
              "</table>\n",
              "<p>19158 rows × 9 columns</p>\n",
              "</div>"
            ],
            "text/plain": [
              "      gender  relevent_experience  ... company_type last_new_job\n",
              "0          1                    0  ...          NaN            0\n",
              "1          1                    1  ...            5            4\n",
              "2        NaN                    1  ...          NaN            6\n",
              "3        NaN                    1  ...            5            6\n",
              "4          1                    0  ...            1            3\n",
              "...      ...                  ...  ...          ...          ...\n",
              "19153      1                    1  ...          NaN            0\n",
              "19154      1                    0  ...          NaN            3\n",
              "19155      1                    0  ...            5            3\n",
              "19156      1                    0  ...            5            1\n",
              "19157    NaN                    1  ...          NaN            0\n",
              "\n",
              "[19158 rows x 9 columns]"
            ]
          },
          "metadata": {
            "tags": []
          },
          "execution_count": 9
        }
      ]
    },
    {
      "cell_type": "code",
      "metadata": {
        "id": "095Z8-Gv0iLj"
      },
      "source": [
        "train_data.drop(['gender', 'relevent_experience','enrolled_university', 'education_level', 'major_discipline','experience', 'company_size', 'company_type', 'last_new_job'],1,inplace=True)"
      ],
      "execution_count": 26,
      "outputs": []
    },
    {
      "cell_type": "code",
      "metadata": {
        "colab": {
          "base_uri": "https://localhost:8080/",
          "height": 416
        },
        "id": "G3qDKApR1vTG",
        "outputId": "167e2ada-b727-422f-c640-d98612d1354c"
      },
      "source": [
        "train_data"
      ],
      "execution_count": null,
      "outputs": [
        {
          "output_type": "execute_result",
          "data": {
            "text/html": [
              "<div>\n",
              "<style scoped>\n",
              "    .dataframe tbody tr th:only-of-type {\n",
              "        vertical-align: middle;\n",
              "    }\n",
              "\n",
              "    .dataframe tbody tr th {\n",
              "        vertical-align: top;\n",
              "    }\n",
              "\n",
              "    .dataframe thead th {\n",
              "        text-align: right;\n",
              "    }\n",
              "</style>\n",
              "<table border=\"1\" class=\"dataframe\">\n",
              "  <thead>\n",
              "    <tr style=\"text-align: right;\">\n",
              "      <th></th>\n",
              "      <th>city_development_index</th>\n",
              "      <th>training_hours</th>\n",
              "      <th>target</th>\n",
              "    </tr>\n",
              "  </thead>\n",
              "  <tbody>\n",
              "    <tr>\n",
              "      <th>0</th>\n",
              "      <td>0.920</td>\n",
              "      <td>36</td>\n",
              "      <td>1.0</td>\n",
              "    </tr>\n",
              "    <tr>\n",
              "      <th>1</th>\n",
              "      <td>0.776</td>\n",
              "      <td>47</td>\n",
              "      <td>0.0</td>\n",
              "    </tr>\n",
              "    <tr>\n",
              "      <th>2</th>\n",
              "      <td>0.624</td>\n",
              "      <td>83</td>\n",
              "      <td>0.0</td>\n",
              "    </tr>\n",
              "    <tr>\n",
              "      <th>3</th>\n",
              "      <td>0.789</td>\n",
              "      <td>52</td>\n",
              "      <td>1.0</td>\n",
              "    </tr>\n",
              "    <tr>\n",
              "      <th>4</th>\n",
              "      <td>0.767</td>\n",
              "      <td>8</td>\n",
              "      <td>0.0</td>\n",
              "    </tr>\n",
              "    <tr>\n",
              "      <th>...</th>\n",
              "      <td>...</td>\n",
              "      <td>...</td>\n",
              "      <td>...</td>\n",
              "    </tr>\n",
              "    <tr>\n",
              "      <th>19153</th>\n",
              "      <td>0.878</td>\n",
              "      <td>42</td>\n",
              "      <td>1.0</td>\n",
              "    </tr>\n",
              "    <tr>\n",
              "      <th>19154</th>\n",
              "      <td>0.920</td>\n",
              "      <td>52</td>\n",
              "      <td>1.0</td>\n",
              "    </tr>\n",
              "    <tr>\n",
              "      <th>19155</th>\n",
              "      <td>0.920</td>\n",
              "      <td>44</td>\n",
              "      <td>0.0</td>\n",
              "    </tr>\n",
              "    <tr>\n",
              "      <th>19156</th>\n",
              "      <td>0.802</td>\n",
              "      <td>97</td>\n",
              "      <td>0.0</td>\n",
              "    </tr>\n",
              "    <tr>\n",
              "      <th>19157</th>\n",
              "      <td>0.855</td>\n",
              "      <td>127</td>\n",
              "      <td>0.0</td>\n",
              "    </tr>\n",
              "  </tbody>\n",
              "</table>\n",
              "<p>19158 rows × 3 columns</p>\n",
              "</div>"
            ],
            "text/plain": [
              "       city_development_index  training_hours  target\n",
              "0                       0.920              36     1.0\n",
              "1                       0.776              47     0.0\n",
              "2                       0.624              83     0.0\n",
              "3                       0.789              52     1.0\n",
              "4                       0.767               8     0.0\n",
              "...                       ...             ...     ...\n",
              "19153                   0.878              42     1.0\n",
              "19154                   0.920              52     1.0\n",
              "19155                   0.920              44     0.0\n",
              "19156                   0.802              97     0.0\n",
              "19157                   0.855             127     0.0\n",
              "\n",
              "[19158 rows x 3 columns]"
            ]
          },
          "metadata": {
            "tags": []
          },
          "execution_count": 11
        }
      ]
    },
    {
      "cell_type": "code",
      "metadata": {
        "id": "esmsSHYB1K-j",
        "colab": {
          "base_uri": "https://localhost:8080/",
          "height": 436
        },
        "outputId": "27635569-b98e-47d6-dcad-541615cf572c"
      },
      "source": [
        "train_data = train_Label_encode.join(train_data)\n",
        "train_data"
      ],
      "execution_count": 27,
      "outputs": [
        {
          "output_type": "execute_result",
          "data": {
            "text/html": [
              "<div>\n",
              "<style scoped>\n",
              "    .dataframe tbody tr th:only-of-type {\n",
              "        vertical-align: middle;\n",
              "    }\n",
              "\n",
              "    .dataframe tbody tr th {\n",
              "        vertical-align: top;\n",
              "    }\n",
              "\n",
              "    .dataframe thead th {\n",
              "        text-align: right;\n",
              "    }\n",
              "</style>\n",
              "<table border=\"1\" class=\"dataframe\">\n",
              "  <thead>\n",
              "    <tr style=\"text-align: right;\">\n",
              "      <th></th>\n",
              "      <th>gender</th>\n",
              "      <th>relevent_experience</th>\n",
              "      <th>enrolled_university</th>\n",
              "      <th>education_level</th>\n",
              "      <th>major_discipline</th>\n",
              "      <th>experience</th>\n",
              "      <th>company_size</th>\n",
              "      <th>company_type</th>\n",
              "      <th>last_new_job</th>\n",
              "      <th>city_development_index</th>\n",
              "      <th>training_hours</th>\n",
              "      <th>target</th>\n",
              "    </tr>\n",
              "  </thead>\n",
              "  <tbody>\n",
              "    <tr>\n",
              "      <th>0</th>\n",
              "      <td>1</td>\n",
              "      <td>0</td>\n",
              "      <td>3</td>\n",
              "      <td>0</td>\n",
              "      <td>5</td>\n",
              "      <td>21</td>\n",
              "      <td>NaN</td>\n",
              "      <td>NaN</td>\n",
              "      <td>0</td>\n",
              "      <td>0.920</td>\n",
              "      <td>36</td>\n",
              "      <td>1.0</td>\n",
              "    </tr>\n",
              "    <tr>\n",
              "      <th>1</th>\n",
              "      <td>1</td>\n",
              "      <td>1</td>\n",
              "      <td>3</td>\n",
              "      <td>0</td>\n",
              "      <td>5</td>\n",
              "      <td>6</td>\n",
              "      <td>3</td>\n",
              "      <td>5</td>\n",
              "      <td>4</td>\n",
              "      <td>0.776</td>\n",
              "      <td>47</td>\n",
              "      <td>0.0</td>\n",
              "    </tr>\n",
              "    <tr>\n",
              "      <th>2</th>\n",
              "      <td>NaN</td>\n",
              "      <td>1</td>\n",
              "      <td>0</td>\n",
              "      <td>0</td>\n",
              "      <td>5</td>\n",
              "      <td>15</td>\n",
              "      <td>NaN</td>\n",
              "      <td>NaN</td>\n",
              "      <td>6</td>\n",
              "      <td>0.624</td>\n",
              "      <td>83</td>\n",
              "      <td>0.0</td>\n",
              "    </tr>\n",
              "    <tr>\n",
              "      <th>3</th>\n",
              "      <td>NaN</td>\n",
              "      <td>1</td>\n",
              "      <td>NaN</td>\n",
              "      <td>0</td>\n",
              "      <td>1</td>\n",
              "      <td>20</td>\n",
              "      <td>NaN</td>\n",
              "      <td>5</td>\n",
              "      <td>6</td>\n",
              "      <td>0.789</td>\n",
              "      <td>52</td>\n",
              "      <td>1.0</td>\n",
              "    </tr>\n",
              "    <tr>\n",
              "      <th>4</th>\n",
              "      <td>1</td>\n",
              "      <td>0</td>\n",
              "      <td>3</td>\n",
              "      <td>2</td>\n",
              "      <td>5</td>\n",
              "      <td>21</td>\n",
              "      <td>3</td>\n",
              "      <td>1</td>\n",
              "      <td>3</td>\n",
              "      <td>0.767</td>\n",
              "      <td>8</td>\n",
              "      <td>0.0</td>\n",
              "    </tr>\n",
              "    <tr>\n",
              "      <th>...</th>\n",
              "      <td>...</td>\n",
              "      <td>...</td>\n",
              "      <td>...</td>\n",
              "      <td>...</td>\n",
              "      <td>...</td>\n",
              "      <td>...</td>\n",
              "      <td>...</td>\n",
              "      <td>...</td>\n",
              "      <td>...</td>\n",
              "      <td>...</td>\n",
              "      <td>...</td>\n",
              "      <td>...</td>\n",
              "    </tr>\n",
              "    <tr>\n",
              "      <th>19153</th>\n",
              "      <td>1</td>\n",
              "      <td>1</td>\n",
              "      <td>3</td>\n",
              "      <td>0</td>\n",
              "      <td>2</td>\n",
              "      <td>5</td>\n",
              "      <td>NaN</td>\n",
              "      <td>NaN</td>\n",
              "      <td>0</td>\n",
              "      <td>0.878</td>\n",
              "      <td>42</td>\n",
              "      <td>1.0</td>\n",
              "    </tr>\n",
              "    <tr>\n",
              "      <th>19154</th>\n",
              "      <td>1</td>\n",
              "      <td>0</td>\n",
              "      <td>3</td>\n",
              "      <td>0</td>\n",
              "      <td>5</td>\n",
              "      <td>5</td>\n",
              "      <td>NaN</td>\n",
              "      <td>NaN</td>\n",
              "      <td>3</td>\n",
              "      <td>0.920</td>\n",
              "      <td>52</td>\n",
              "      <td>1.0</td>\n",
              "    </tr>\n",
              "    <tr>\n",
              "      <th>19155</th>\n",
              "      <td>1</td>\n",
              "      <td>0</td>\n",
              "      <td>3</td>\n",
              "      <td>0</td>\n",
              "      <td>5</td>\n",
              "      <td>21</td>\n",
              "      <td>3</td>\n",
              "      <td>5</td>\n",
              "      <td>3</td>\n",
              "      <td>0.920</td>\n",
              "      <td>44</td>\n",
              "      <td>0.0</td>\n",
              "    </tr>\n",
              "    <tr>\n",
              "      <th>19156</th>\n",
              "      <td>1</td>\n",
              "      <td>0</td>\n",
              "      <td>3</td>\n",
              "      <td>1</td>\n",
              "      <td>NaN</td>\n",
              "      <td>20</td>\n",
              "      <td>4</td>\n",
              "      <td>5</td>\n",
              "      <td>1</td>\n",
              "      <td>0.802</td>\n",
              "      <td>97</td>\n",
              "      <td>0.0</td>\n",
              "    </tr>\n",
              "    <tr>\n",
              "      <th>19157</th>\n",
              "      <td>NaN</td>\n",
              "      <td>1</td>\n",
              "      <td>3</td>\n",
              "      <td>4</td>\n",
              "      <td>NaN</td>\n",
              "      <td>11</td>\n",
              "      <td>NaN</td>\n",
              "      <td>NaN</td>\n",
              "      <td>0</td>\n",
              "      <td>0.855</td>\n",
              "      <td>127</td>\n",
              "      <td>0.0</td>\n",
              "    </tr>\n",
              "  </tbody>\n",
              "</table>\n",
              "<p>19158 rows × 12 columns</p>\n",
              "</div>"
            ],
            "text/plain": [
              "      gender  relevent_experience  ... training_hours target\n",
              "0          1                    0  ...             36    1.0\n",
              "1          1                    1  ...             47    0.0\n",
              "2        NaN                    1  ...             83    0.0\n",
              "3        NaN                    1  ...             52    1.0\n",
              "4          1                    0  ...              8    0.0\n",
              "...      ...                  ...  ...            ...    ...\n",
              "19153      1                    1  ...             42    1.0\n",
              "19154      1                    0  ...             52    1.0\n",
              "19155      1                    0  ...             44    0.0\n",
              "19156      1                    0  ...             97    0.0\n",
              "19157    NaN                    1  ...            127    0.0\n",
              "\n",
              "[19158 rows x 12 columns]"
            ]
          },
          "metadata": {
            "tags": []
          },
          "execution_count": 27
        }
      ]
    },
    {
      "cell_type": "markdown",
      "metadata": {
        "id": "MYQVebm5VHR_"
      },
      "source": [
        "#Applying Mice Imputer for Missing value imputation"
      ]
    },
    {
      "cell_type": "code",
      "metadata": {
        "colab": {
          "base_uri": "https://localhost:8080/",
          "height": 470
        },
        "id": "_0ieVQXKteZr",
        "outputId": "b44b920b-069d-4b8a-ae09-68ab09945718"
      },
      "source": [
        "lr = LinearRegression()\n",
        "mice_imputer = IterativeImputer(random_state=42, estimator=lr, max_iter=10, n_nearest_features=2, imputation_order = 'roman')\n",
        "cleaned_train_data = mice_imputer.fit_transform(train_data)\n",
        "\n",
        "cleaned_train_data = pd.DataFrame(cleaned_train_data)\n",
        "cleaned_train_data.columns = ['gender', 'relevent_experience', 'enrolled_university', 'education_level', 'major_discipline',\n",
        "                                                         'experience', 'company_size', 'company_type', 'last_new_job', 'city_development_index', 'training_hours', 'target']\n",
        "                                                        \n",
        "cleaned_train_data"
      ],
      "execution_count": 28,
      "outputs": [
        {
          "output_type": "stream",
          "text": [
            "/usr/local/lib/python3.7/dist-packages/sklearn/impute/_iterative.py:638: ConvergenceWarning: [IterativeImputer] Early stopping criterion not reached.\n",
            "  \" reached.\", ConvergenceWarning)\n"
          ],
          "name": "stderr"
        },
        {
          "output_type": "execute_result",
          "data": {
            "text/html": [
              "<div>\n",
              "<style scoped>\n",
              "    .dataframe tbody tr th:only-of-type {\n",
              "        vertical-align: middle;\n",
              "    }\n",
              "\n",
              "    .dataframe tbody tr th {\n",
              "        vertical-align: top;\n",
              "    }\n",
              "\n",
              "    .dataframe thead th {\n",
              "        text-align: right;\n",
              "    }\n",
              "</style>\n",
              "<table border=\"1\" class=\"dataframe\">\n",
              "  <thead>\n",
              "    <tr style=\"text-align: right;\">\n",
              "      <th></th>\n",
              "      <th>gender</th>\n",
              "      <th>relevent_experience</th>\n",
              "      <th>enrolled_university</th>\n",
              "      <th>education_level</th>\n",
              "      <th>major_discipline</th>\n",
              "      <th>experience</th>\n",
              "      <th>company_size</th>\n",
              "      <th>company_type</th>\n",
              "      <th>last_new_job</th>\n",
              "      <th>city_development_index</th>\n",
              "      <th>training_hours</th>\n",
              "      <th>target</th>\n",
              "    </tr>\n",
              "  </thead>\n",
              "  <tbody>\n",
              "    <tr>\n",
              "      <th>0</th>\n",
              "      <td>1.000000</td>\n",
              "      <td>0.0</td>\n",
              "      <td>3.000000</td>\n",
              "      <td>0.0</td>\n",
              "      <td>5.000000</td>\n",
              "      <td>21.0</td>\n",
              "      <td>2.463052</td>\n",
              "      <td>4.274976</td>\n",
              "      <td>0.0</td>\n",
              "      <td>0.920</td>\n",
              "      <td>36.0</td>\n",
              "      <td>1.0</td>\n",
              "    </tr>\n",
              "    <tr>\n",
              "      <th>1</th>\n",
              "      <td>1.000000</td>\n",
              "      <td>1.0</td>\n",
              "      <td>3.000000</td>\n",
              "      <td>0.0</td>\n",
              "      <td>5.000000</td>\n",
              "      <td>6.0</td>\n",
              "      <td>3.000000</td>\n",
              "      <td>5.000000</td>\n",
              "      <td>4.0</td>\n",
              "      <td>0.776</td>\n",
              "      <td>47.0</td>\n",
              "      <td>0.0</td>\n",
              "    </tr>\n",
              "    <tr>\n",
              "      <th>2</th>\n",
              "      <td>0.939181</td>\n",
              "      <td>1.0</td>\n",
              "      <td>0.000000</td>\n",
              "      <td>0.0</td>\n",
              "      <td>5.000000</td>\n",
              "      <td>15.0</td>\n",
              "      <td>2.462749</td>\n",
              "      <td>4.129187</td>\n",
              "      <td>6.0</td>\n",
              "      <td>0.624</td>\n",
              "      <td>83.0</td>\n",
              "      <td>0.0</td>\n",
              "    </tr>\n",
              "    <tr>\n",
              "      <th>3</th>\n",
              "      <td>0.835441</td>\n",
              "      <td>1.0</td>\n",
              "      <td>1.318954</td>\n",
              "      <td>0.0</td>\n",
              "      <td>1.000000</td>\n",
              "      <td>20.0</td>\n",
              "      <td>2.302724</td>\n",
              "      <td>5.000000</td>\n",
              "      <td>6.0</td>\n",
              "      <td>0.789</td>\n",
              "      <td>52.0</td>\n",
              "      <td>1.0</td>\n",
              "    </tr>\n",
              "    <tr>\n",
              "      <th>4</th>\n",
              "      <td>1.000000</td>\n",
              "      <td>0.0</td>\n",
              "      <td>3.000000</td>\n",
              "      <td>2.0</td>\n",
              "      <td>5.000000</td>\n",
              "      <td>21.0</td>\n",
              "      <td>3.000000</td>\n",
              "      <td>1.000000</td>\n",
              "      <td>3.0</td>\n",
              "      <td>0.767</td>\n",
              "      <td>8.0</td>\n",
              "      <td>0.0</td>\n",
              "    </tr>\n",
              "    <tr>\n",
              "      <th>...</th>\n",
              "      <td>...</td>\n",
              "      <td>...</td>\n",
              "      <td>...</td>\n",
              "      <td>...</td>\n",
              "      <td>...</td>\n",
              "      <td>...</td>\n",
              "      <td>...</td>\n",
              "      <td>...</td>\n",
              "      <td>...</td>\n",
              "      <td>...</td>\n",
              "      <td>...</td>\n",
              "      <td>...</td>\n",
              "    </tr>\n",
              "    <tr>\n",
              "      <th>19153</th>\n",
              "      <td>1.000000</td>\n",
              "      <td>1.0</td>\n",
              "      <td>3.000000</td>\n",
              "      <td>0.0</td>\n",
              "      <td>2.000000</td>\n",
              "      <td>5.0</td>\n",
              "      <td>2.485616</td>\n",
              "      <td>4.271062</td>\n",
              "      <td>0.0</td>\n",
              "      <td>0.878</td>\n",
              "      <td>42.0</td>\n",
              "      <td>1.0</td>\n",
              "    </tr>\n",
              "    <tr>\n",
              "      <th>19154</th>\n",
              "      <td>1.000000</td>\n",
              "      <td>0.0</td>\n",
              "      <td>3.000000</td>\n",
              "      <td>0.0</td>\n",
              "      <td>5.000000</td>\n",
              "      <td>5.0</td>\n",
              "      <td>2.382644</td>\n",
              "      <td>4.288925</td>\n",
              "      <td>3.0</td>\n",
              "      <td>0.920</td>\n",
              "      <td>52.0</td>\n",
              "      <td>1.0</td>\n",
              "    </tr>\n",
              "    <tr>\n",
              "      <th>19155</th>\n",
              "      <td>1.000000</td>\n",
              "      <td>0.0</td>\n",
              "      <td>3.000000</td>\n",
              "      <td>0.0</td>\n",
              "      <td>5.000000</td>\n",
              "      <td>21.0</td>\n",
              "      <td>3.000000</td>\n",
              "      <td>5.000000</td>\n",
              "      <td>3.0</td>\n",
              "      <td>0.920</td>\n",
              "      <td>44.0</td>\n",
              "      <td>0.0</td>\n",
              "    </tr>\n",
              "    <tr>\n",
              "      <th>19156</th>\n",
              "      <td>1.000000</td>\n",
              "      <td>0.0</td>\n",
              "      <td>3.000000</td>\n",
              "      <td>1.0</td>\n",
              "      <td>4.713418</td>\n",
              "      <td>20.0</td>\n",
              "      <td>4.000000</td>\n",
              "      <td>5.000000</td>\n",
              "      <td>1.0</td>\n",
              "      <td>0.802</td>\n",
              "      <td>97.0</td>\n",
              "      <td>0.0</td>\n",
              "    </tr>\n",
              "    <tr>\n",
              "      <th>19157</th>\n",
              "      <td>0.930641</td>\n",
              "      <td>1.0</td>\n",
              "      <td>3.000000</td>\n",
              "      <td>4.0</td>\n",
              "      <td>4.654845</td>\n",
              "      <td>11.0</td>\n",
              "      <td>2.497973</td>\n",
              "      <td>4.268918</td>\n",
              "      <td>0.0</td>\n",
              "      <td>0.855</td>\n",
              "      <td>127.0</td>\n",
              "      <td>0.0</td>\n",
              "    </tr>\n",
              "  </tbody>\n",
              "</table>\n",
              "<p>19158 rows × 12 columns</p>\n",
              "</div>"
            ],
            "text/plain": [
              "         gender  relevent_experience  ...  training_hours  target\n",
              "0      1.000000                  0.0  ...            36.0     1.0\n",
              "1      1.000000                  1.0  ...            47.0     0.0\n",
              "2      0.939181                  1.0  ...            83.0     0.0\n",
              "3      0.835441                  1.0  ...            52.0     1.0\n",
              "4      1.000000                  0.0  ...             8.0     0.0\n",
              "...         ...                  ...  ...             ...     ...\n",
              "19153  1.000000                  1.0  ...            42.0     1.0\n",
              "19154  1.000000                  0.0  ...            52.0     1.0\n",
              "19155  1.000000                  0.0  ...            44.0     0.0\n",
              "19156  1.000000                  0.0  ...            97.0     0.0\n",
              "19157  0.930641                  1.0  ...           127.0     0.0\n",
              "\n",
              "[19158 rows x 12 columns]"
            ]
          },
          "metadata": {
            "tags": []
          },
          "execution_count": 28
        }
      ]
    },
    {
      "cell_type": "code",
      "metadata": {
        "colab": {
          "base_uri": "https://localhost:8080/"
        },
        "id": "_XZvUbuvvX4x",
        "outputId": "5ae118c1-6cd2-4ede-c02a-fead77a1cfec"
      },
      "source": [
        "cleaned_train_data.isnull().sum()"
      ],
      "execution_count": null,
      "outputs": [
        {
          "output_type": "execute_result",
          "data": {
            "text/plain": [
              "gender                    0\n",
              "relevent_experience       0\n",
              "enrolled_university       0\n",
              "education_level           0\n",
              "major_discipline          0\n",
              "experience                0\n",
              "company_size              0\n",
              "company_type              0\n",
              "last_new_job              0\n",
              "city_development_index    0\n",
              "training_hours            0\n",
              "target                    0\n",
              "dtype: int64"
            ]
          },
          "metadata": {
            "tags": []
          },
          "execution_count": 17
        }
      ]
    },
    {
      "cell_type": "code",
      "metadata": {
        "colab": {
          "base_uri": "https://localhost:8080/"
        },
        "id": "vjvbWlNAxLSb",
        "outputId": "230f5ae8-e42c-4734-bb22-7f6a6e74bdf8"
      },
      "source": [
        "cleaned_train_data.info()"
      ],
      "execution_count": null,
      "outputs": [
        {
          "output_type": "stream",
          "text": [
            "<class 'pandas.core.frame.DataFrame'>\n",
            "RangeIndex: 19158 entries, 0 to 19157\n",
            "Data columns (total 12 columns):\n",
            " #   Column                  Non-Null Count  Dtype  \n",
            "---  ------                  --------------  -----  \n",
            " 0   gender                  19158 non-null  float64\n",
            " 1   relevent_experience     19158 non-null  float64\n",
            " 2   enrolled_university     19158 non-null  float64\n",
            " 3   education_level         19158 non-null  float64\n",
            " 4   major_discipline        19158 non-null  float64\n",
            " 5   experience              19158 non-null  float64\n",
            " 6   company_size            19158 non-null  float64\n",
            " 7   company_type            19158 non-null  float64\n",
            " 8   last_new_job            19158 non-null  float64\n",
            " 9   city_development_index  19158 non-null  float64\n",
            " 10  training_hours          19158 non-null  float64\n",
            " 11  target                  19158 non-null  float64\n",
            "dtypes: float64(12)\n",
            "memory usage: 1.8 MB\n"
          ],
          "name": "stdout"
        }
      ]
    },
    {
      "cell_type": "code",
      "metadata": {
        "colab": {
          "base_uri": "https://localhost:8080/",
          "height": 436
        },
        "id": "XAbUIRqj8bvi",
        "outputId": "f1a856a2-3e43-4ea7-d336-6380499ad74a"
      },
      "source": [
        "cleaned_train_data"
      ],
      "execution_count": null,
      "outputs": [
        {
          "output_type": "execute_result",
          "data": {
            "text/html": [
              "<div>\n",
              "<style scoped>\n",
              "    .dataframe tbody tr th:only-of-type {\n",
              "        vertical-align: middle;\n",
              "    }\n",
              "\n",
              "    .dataframe tbody tr th {\n",
              "        vertical-align: top;\n",
              "    }\n",
              "\n",
              "    .dataframe thead th {\n",
              "        text-align: right;\n",
              "    }\n",
              "</style>\n",
              "<table border=\"1\" class=\"dataframe\">\n",
              "  <thead>\n",
              "    <tr style=\"text-align: right;\">\n",
              "      <th></th>\n",
              "      <th>gender</th>\n",
              "      <th>relevent_experience</th>\n",
              "      <th>enrolled_university</th>\n",
              "      <th>education_level</th>\n",
              "      <th>major_discipline</th>\n",
              "      <th>experience</th>\n",
              "      <th>company_size</th>\n",
              "      <th>company_type</th>\n",
              "      <th>last_new_job</th>\n",
              "      <th>city_development_index</th>\n",
              "      <th>training_hours</th>\n",
              "      <th>target</th>\n",
              "    </tr>\n",
              "  </thead>\n",
              "  <tbody>\n",
              "    <tr>\n",
              "      <th>0</th>\n",
              "      <td>1.000000</td>\n",
              "      <td>0.0</td>\n",
              "      <td>3.000000</td>\n",
              "      <td>0.0</td>\n",
              "      <td>5.000000</td>\n",
              "      <td>21.0</td>\n",
              "      <td>2.463052</td>\n",
              "      <td>4.274976</td>\n",
              "      <td>0.0</td>\n",
              "      <td>0.920</td>\n",
              "      <td>36.0</td>\n",
              "      <td>1.0</td>\n",
              "    </tr>\n",
              "    <tr>\n",
              "      <th>1</th>\n",
              "      <td>1.000000</td>\n",
              "      <td>1.0</td>\n",
              "      <td>3.000000</td>\n",
              "      <td>0.0</td>\n",
              "      <td>5.000000</td>\n",
              "      <td>6.0</td>\n",
              "      <td>3.000000</td>\n",
              "      <td>5.000000</td>\n",
              "      <td>4.0</td>\n",
              "      <td>0.776</td>\n",
              "      <td>47.0</td>\n",
              "      <td>0.0</td>\n",
              "    </tr>\n",
              "    <tr>\n",
              "      <th>2</th>\n",
              "      <td>0.939181</td>\n",
              "      <td>1.0</td>\n",
              "      <td>0.000000</td>\n",
              "      <td>0.0</td>\n",
              "      <td>5.000000</td>\n",
              "      <td>15.0</td>\n",
              "      <td>2.462749</td>\n",
              "      <td>4.129187</td>\n",
              "      <td>6.0</td>\n",
              "      <td>0.624</td>\n",
              "      <td>83.0</td>\n",
              "      <td>0.0</td>\n",
              "    </tr>\n",
              "    <tr>\n",
              "      <th>3</th>\n",
              "      <td>0.835441</td>\n",
              "      <td>1.0</td>\n",
              "      <td>1.318954</td>\n",
              "      <td>0.0</td>\n",
              "      <td>1.000000</td>\n",
              "      <td>20.0</td>\n",
              "      <td>2.302724</td>\n",
              "      <td>5.000000</td>\n",
              "      <td>6.0</td>\n",
              "      <td>0.789</td>\n",
              "      <td>52.0</td>\n",
              "      <td>1.0</td>\n",
              "    </tr>\n",
              "    <tr>\n",
              "      <th>4</th>\n",
              "      <td>1.000000</td>\n",
              "      <td>0.0</td>\n",
              "      <td>3.000000</td>\n",
              "      <td>2.0</td>\n",
              "      <td>5.000000</td>\n",
              "      <td>21.0</td>\n",
              "      <td>3.000000</td>\n",
              "      <td>1.000000</td>\n",
              "      <td>3.0</td>\n",
              "      <td>0.767</td>\n",
              "      <td>8.0</td>\n",
              "      <td>0.0</td>\n",
              "    </tr>\n",
              "    <tr>\n",
              "      <th>...</th>\n",
              "      <td>...</td>\n",
              "      <td>...</td>\n",
              "      <td>...</td>\n",
              "      <td>...</td>\n",
              "      <td>...</td>\n",
              "      <td>...</td>\n",
              "      <td>...</td>\n",
              "      <td>...</td>\n",
              "      <td>...</td>\n",
              "      <td>...</td>\n",
              "      <td>...</td>\n",
              "      <td>...</td>\n",
              "    </tr>\n",
              "    <tr>\n",
              "      <th>19153</th>\n",
              "      <td>1.000000</td>\n",
              "      <td>1.0</td>\n",
              "      <td>3.000000</td>\n",
              "      <td>0.0</td>\n",
              "      <td>2.000000</td>\n",
              "      <td>5.0</td>\n",
              "      <td>2.485616</td>\n",
              "      <td>4.271062</td>\n",
              "      <td>0.0</td>\n",
              "      <td>0.878</td>\n",
              "      <td>42.0</td>\n",
              "      <td>1.0</td>\n",
              "    </tr>\n",
              "    <tr>\n",
              "      <th>19154</th>\n",
              "      <td>1.000000</td>\n",
              "      <td>0.0</td>\n",
              "      <td>3.000000</td>\n",
              "      <td>0.0</td>\n",
              "      <td>5.000000</td>\n",
              "      <td>5.0</td>\n",
              "      <td>2.382644</td>\n",
              "      <td>4.288925</td>\n",
              "      <td>3.0</td>\n",
              "      <td>0.920</td>\n",
              "      <td>52.0</td>\n",
              "      <td>1.0</td>\n",
              "    </tr>\n",
              "    <tr>\n",
              "      <th>19155</th>\n",
              "      <td>1.000000</td>\n",
              "      <td>0.0</td>\n",
              "      <td>3.000000</td>\n",
              "      <td>0.0</td>\n",
              "      <td>5.000000</td>\n",
              "      <td>21.0</td>\n",
              "      <td>3.000000</td>\n",
              "      <td>5.000000</td>\n",
              "      <td>3.0</td>\n",
              "      <td>0.920</td>\n",
              "      <td>44.0</td>\n",
              "      <td>0.0</td>\n",
              "    </tr>\n",
              "    <tr>\n",
              "      <th>19156</th>\n",
              "      <td>1.000000</td>\n",
              "      <td>0.0</td>\n",
              "      <td>3.000000</td>\n",
              "      <td>1.0</td>\n",
              "      <td>4.713418</td>\n",
              "      <td>20.0</td>\n",
              "      <td>4.000000</td>\n",
              "      <td>5.000000</td>\n",
              "      <td>1.0</td>\n",
              "      <td>0.802</td>\n",
              "      <td>97.0</td>\n",
              "      <td>0.0</td>\n",
              "    </tr>\n",
              "    <tr>\n",
              "      <th>19157</th>\n",
              "      <td>0.930641</td>\n",
              "      <td>1.0</td>\n",
              "      <td>3.000000</td>\n",
              "      <td>4.0</td>\n",
              "      <td>4.654845</td>\n",
              "      <td>11.0</td>\n",
              "      <td>2.497973</td>\n",
              "      <td>4.268918</td>\n",
              "      <td>0.0</td>\n",
              "      <td>0.855</td>\n",
              "      <td>127.0</td>\n",
              "      <td>0.0</td>\n",
              "    </tr>\n",
              "  </tbody>\n",
              "</table>\n",
              "<p>19158 rows × 12 columns</p>\n",
              "</div>"
            ],
            "text/plain": [
              "         gender  relevent_experience  ...  training_hours  target\n",
              "0      1.000000                  0.0  ...            36.0     1.0\n",
              "1      1.000000                  1.0  ...            47.0     0.0\n",
              "2      0.939181                  1.0  ...            83.0     0.0\n",
              "3      0.835441                  1.0  ...            52.0     1.0\n",
              "4      1.000000                  0.0  ...             8.0     0.0\n",
              "...         ...                  ...  ...             ...     ...\n",
              "19153  1.000000                  1.0  ...            42.0     1.0\n",
              "19154  1.000000                  0.0  ...            52.0     1.0\n",
              "19155  1.000000                  0.0  ...            44.0     0.0\n",
              "19156  1.000000                  0.0  ...            97.0     0.0\n",
              "19157  0.930641                  1.0  ...           127.0     0.0\n",
              "\n",
              "[19158 rows x 12 columns]"
            ]
          },
          "metadata": {
            "tags": []
          },
          "execution_count": 19
        }
      ]
    },
    {
      "cell_type": "markdown",
      "metadata": {
        "id": "bRcPDm2vVOEq"
      },
      "source": [
        "#There is heavy class imbalance present in data"
      ]
    },
    {
      "cell_type": "code",
      "metadata": {
        "colab": {
          "base_uri": "https://localhost:8080/"
        },
        "id": "Io440GtnzamX",
        "outputId": "c962daf0-97bd-4b5b-ba00-f957cb55e9cd"
      },
      "source": [
        "cleaned_train_data.target.value_counts()"
      ],
      "execution_count": null,
      "outputs": [
        {
          "output_type": "execute_result",
          "data": {
            "text/plain": [
              "0.0    14381\n",
              "1.0     4777\n",
              "Name: target, dtype: int64"
            ]
          },
          "metadata": {
            "tags": []
          },
          "execution_count": 20
        }
      ]
    },
    {
      "cell_type": "code",
      "metadata": {
        "id": "hkft57Ep4W6P"
      },
      "source": [
        "cleaned_train_data.to_csv('cleaned_train_data.csv', index=False)"
      ],
      "execution_count": null,
      "outputs": []
    },
    {
      "cell_type": "code",
      "metadata": {
        "id": "b77vJdF79b2h",
        "colab": {
          "base_uri": "https://localhost:8080/",
          "height": 222
        },
        "outputId": "0b678c36-24fa-4d73-82a1-7617235cf6f9"
      },
      "source": [
        "cleaned_train = pd.read_csv('cleaned_train_data.csv')\n",
        "cleaned_train.head()"
      ],
      "execution_count": 3,
      "outputs": [
        {
          "output_type": "execute_result",
          "data": {
            "text/html": [
              "<div>\n",
              "<style scoped>\n",
              "    .dataframe tbody tr th:only-of-type {\n",
              "        vertical-align: middle;\n",
              "    }\n",
              "\n",
              "    .dataframe tbody tr th {\n",
              "        vertical-align: top;\n",
              "    }\n",
              "\n",
              "    .dataframe thead th {\n",
              "        text-align: right;\n",
              "    }\n",
              "</style>\n",
              "<table border=\"1\" class=\"dataframe\">\n",
              "  <thead>\n",
              "    <tr style=\"text-align: right;\">\n",
              "      <th></th>\n",
              "      <th>gender</th>\n",
              "      <th>relevent_experience</th>\n",
              "      <th>enrolled_university</th>\n",
              "      <th>education_level</th>\n",
              "      <th>major_discipline</th>\n",
              "      <th>experience</th>\n",
              "      <th>company_size</th>\n",
              "      <th>company_type</th>\n",
              "      <th>last_new_job</th>\n",
              "      <th>city_development_index</th>\n",
              "      <th>training_hours</th>\n",
              "      <th>target</th>\n",
              "    </tr>\n",
              "  </thead>\n",
              "  <tbody>\n",
              "    <tr>\n",
              "      <th>0</th>\n",
              "      <td>1.000000</td>\n",
              "      <td>0.0</td>\n",
              "      <td>3.000000</td>\n",
              "      <td>0.0</td>\n",
              "      <td>5.0</td>\n",
              "      <td>21.0</td>\n",
              "      <td>2.463052</td>\n",
              "      <td>4.274976</td>\n",
              "      <td>0.0</td>\n",
              "      <td>0.920</td>\n",
              "      <td>36.0</td>\n",
              "      <td>1.0</td>\n",
              "    </tr>\n",
              "    <tr>\n",
              "      <th>1</th>\n",
              "      <td>1.000000</td>\n",
              "      <td>1.0</td>\n",
              "      <td>3.000000</td>\n",
              "      <td>0.0</td>\n",
              "      <td>5.0</td>\n",
              "      <td>6.0</td>\n",
              "      <td>3.000000</td>\n",
              "      <td>5.000000</td>\n",
              "      <td>4.0</td>\n",
              "      <td>0.776</td>\n",
              "      <td>47.0</td>\n",
              "      <td>0.0</td>\n",
              "    </tr>\n",
              "    <tr>\n",
              "      <th>2</th>\n",
              "      <td>0.939181</td>\n",
              "      <td>1.0</td>\n",
              "      <td>0.000000</td>\n",
              "      <td>0.0</td>\n",
              "      <td>5.0</td>\n",
              "      <td>15.0</td>\n",
              "      <td>2.462749</td>\n",
              "      <td>4.129187</td>\n",
              "      <td>6.0</td>\n",
              "      <td>0.624</td>\n",
              "      <td>83.0</td>\n",
              "      <td>0.0</td>\n",
              "    </tr>\n",
              "    <tr>\n",
              "      <th>3</th>\n",
              "      <td>0.835441</td>\n",
              "      <td>1.0</td>\n",
              "      <td>1.318954</td>\n",
              "      <td>0.0</td>\n",
              "      <td>1.0</td>\n",
              "      <td>20.0</td>\n",
              "      <td>2.302724</td>\n",
              "      <td>5.000000</td>\n",
              "      <td>6.0</td>\n",
              "      <td>0.789</td>\n",
              "      <td>52.0</td>\n",
              "      <td>1.0</td>\n",
              "    </tr>\n",
              "    <tr>\n",
              "      <th>4</th>\n",
              "      <td>1.000000</td>\n",
              "      <td>0.0</td>\n",
              "      <td>3.000000</td>\n",
              "      <td>2.0</td>\n",
              "      <td>5.0</td>\n",
              "      <td>21.0</td>\n",
              "      <td>3.000000</td>\n",
              "      <td>1.000000</td>\n",
              "      <td>3.0</td>\n",
              "      <td>0.767</td>\n",
              "      <td>8.0</td>\n",
              "      <td>0.0</td>\n",
              "    </tr>\n",
              "  </tbody>\n",
              "</table>\n",
              "</div>"
            ],
            "text/plain": [
              "     gender  relevent_experience  ...  training_hours  target\n",
              "0  1.000000                  0.0  ...            36.0     1.0\n",
              "1  1.000000                  1.0  ...            47.0     0.0\n",
              "2  0.939181                  1.0  ...            83.0     0.0\n",
              "3  0.835441                  1.0  ...            52.0     1.0\n",
              "4  1.000000                  0.0  ...             8.0     0.0\n",
              "\n",
              "[5 rows x 12 columns]"
            ]
          },
          "metadata": {
            "tags": []
          },
          "execution_count": 3
        }
      ]
    },
    {
      "cell_type": "code",
      "metadata": {
        "colab": {
          "base_uri": "https://localhost:8080/"
        },
        "id": "X2Uen-uk9MDC",
        "outputId": "d1bcbc34-3a9b-4680-9917-d2bbb1aa4896"
      },
      "source": [
        "cleaned_train.target.value_counts()"
      ],
      "execution_count": 4,
      "outputs": [
        {
          "output_type": "execute_result",
          "data": {
            "text/plain": [
              "0.0    14381\n",
              "1.0     4777\n",
              "Name: target, dtype: int64"
            ]
          },
          "metadata": {
            "tags": []
          },
          "execution_count": 4
        }
      ]
    },
    {
      "cell_type": "code",
      "metadata": {
        "colab": {
          "base_uri": "https://localhost:8080/",
          "height": 724
        },
        "id": "JwVlxRCODQqh",
        "outputId": "70e3eed0-7acf-4e2e-91ff-2d370b5331a2"
      },
      "source": [
        "plt.figure(figsize=(20,10))\n",
        "sns.heatmap(cleaned_train.corr(),annot = True)"
      ],
      "execution_count": null,
      "outputs": [
        {
          "output_type": "execute_result",
          "data": {
            "text/plain": [
              "<matplotlib.axes._subplots.AxesSubplot at 0x7f6bbd2e8a10>"
            ]
          },
          "metadata": {
            "tags": []
          },
          "execution_count": 143
        },
        {
          "output_type": "display_data",
          "data": {
            "image/png": "[encoded data removed]",
            "text/plain": [
              "<Figure size 1440x720 with 2 Axes>"
            ]
          },
          "metadata": {
            "tags": [],
            "needs_background": "light"
          }
        }
      ]
    },
    {
      "cell_type": "markdown",
      "metadata": {
        "id": "Csq989SbVY-S"
      },
      "source": [
        "#Dividing into X and y and standardizing the data"
      ]
    },
    {
      "cell_type": "code",
      "metadata": {
        "id": "YS5XGbFzErY0"
      },
      "source": [
        "X = cleaned_train.drop('target',1)\n",
        "y = cleaned_train.target\n",
        "\n",
        "X_train,X_test,y_train,y_test = tts(X,y,test_size=0.25, random_state=42)\n",
        "\n",
        "sc = StandardScaler()\n",
        "X_train = sc.fit_transform(X_train)\n",
        "X_test = sc.transform(X_test)"
      ],
      "execution_count": 5,
      "outputs": []
    },
    {
      "cell_type": "markdown",
      "metadata": {
        "id": "9mz06Y0YVtmG"
      },
      "source": [
        "#Applying SVM smote"
      ]
    },
    {
      "cell_type": "code",
      "metadata": {
        "id": "ah-FRYCRErVh",
        "colab": {
          "base_uri": "https://localhost:8080/"
        },
        "outputId": "8e6f103f-1cb2-425e-c9a3-8674421a3f4e"
      },
      "source": [
        "svm_smote = SVMSMOTE(sampling_strategy='minority', random_state=42, k_neighbors=5)\n",
        "X_svm_smote, y_svm_smote = svm_smote.fit_resample(X,y)\n",
        "\n",
        "X_train_svm, X_test_svm, y_train_svm, y_test_svm = tts(X_svm_smote,y_svm_smote, test_size=0.25, random_state=42)\n",
        "\n",
        "sc = StandardScaler()\n",
        "X_train_svm = sc.fit_transform(X_train_svm)\n",
        "X_test_svm = sc.transform(X_test_svm)"
      ],
      "execution_count": 6,
      "outputs": [
        {
          "output_type": "stream",
          "text": [
            "/usr/local/lib/python3.7/dist-packages/sklearn/utils/deprecation.py:87: FutureWarning: Function safe_indexing is deprecated; safe_indexing is deprecated in version 0.22 and will be removed in version 0.24.\n",
            "  warnings.warn(msg, category=FutureWarning)\n",
            "/usr/local/lib/python3.7/dist-packages/sklearn/utils/deprecation.py:87: FutureWarning: Function safe_indexing is deprecated; safe_indexing is deprecated in version 0.22 and will be removed in version 0.24.\n",
            "  warnings.warn(msg, category=FutureWarning)\n",
            "/usr/local/lib/python3.7/dist-packages/sklearn/utils/deprecation.py:87: FutureWarning: Function safe_indexing is deprecated; safe_indexing is deprecated in version 0.22 and will be removed in version 0.24.\n",
            "  warnings.warn(msg, category=FutureWarning)\n",
            "/usr/local/lib/python3.7/dist-packages/sklearn/utils/deprecation.py:87: FutureWarning: Function safe_indexing is deprecated; safe_indexing is deprecated in version 0.22 and will be removed in version 0.24.\n",
            "  warnings.warn(msg, category=FutureWarning)\n",
            "/usr/local/lib/python3.7/dist-packages/sklearn/utils/deprecation.py:87: FutureWarning: Function safe_indexing is deprecated; safe_indexing is deprecated in version 0.22 and will be removed in version 0.24.\n",
            "  warnings.warn(msg, category=FutureWarning)\n",
            "/usr/local/lib/python3.7/dist-packages/sklearn/utils/deprecation.py:87: FutureWarning: Function safe_indexing is deprecated; safe_indexing is deprecated in version 0.22 and will be removed in version 0.24.\n",
            "  warnings.warn(msg, category=FutureWarning)\n"
          ],
          "name": "stderr"
        }
      ]
    },
    {
      "cell_type": "code",
      "metadata": {
        "id": "X9F8hhBtEby3"
      },
      "source": [
        "def evaluate(model, X_test, y_test):\n",
        "    y_pred = model.predict(X_test)\n",
        "    errors = abs(y_pred - y_test)\n",
        "    print('Average Error: {:0.4f} degrees.'.format(np.mean(errors)))\n",
        "    print(classification_report(y_test,y_pred))\n",
        "    print(confusion_matrix(y_test,y_pred))\n",
        "    print('Test Recall Score = ',recall_score(y_test, y_pred))\n",
        "    print('Test Precision Score = ',precision_score(y_test, y_pred))\n",
        "    print('Test F1 score = ', f1_score(y_test,y_pred))\n",
        "\n",
        "    return evaluate"
      ],
      "execution_count": 7,
      "outputs": []
    },
    {
      "cell_type": "code",
      "metadata": {
        "id": "AvrP4jr1s85l"
      },
      "source": [
        "def train_auc_roc_curve(model, X_test, y_test, X_train, y_train):\n",
        "  base_fpr,base_tpr,base_threshold = roc_curve(y_train, model.predict(X_train))\n",
        "  plt.plot([0,1])\n",
        "  plt.plot(base_fpr,base_tpr)\n",
        "  print(\"Train auc score :\",auc(base_fpr,base_tpr))\n",
        "  \n",
        "\n",
        "  return train_auc_roc_curve"
      ],
      "execution_count": 8,
      "outputs": []
    },
    {
      "cell_type": "code",
      "metadata": {
        "id": "o4dTepiihnY_"
      },
      "source": [
        "def test_auc_roc_curve(model, X_test, y_test, X_train, y_train):\n",
        "  test_base_fpr,test_base_tpr,test_base_threshold = roc_curve(y_test, model.predict(X_test))\n",
        "  plt.plot([0,1])\n",
        "  plt.plot(test_base_fpr,test_base_tpr)\n",
        "  print(\"Test auc score :\",auc(test_base_fpr,test_base_tpr))\n",
        "  \n",
        "\n",
        "  return test_auc_roc_curve"
      ],
      "execution_count": 9,
      "outputs": []
    },
    {
      "cell_type": "markdown",
      "metadata": {
        "id": "h9xratpZ5d3t"
      },
      "source": [
        "#Model Implementation"
      ]
    },
    {
      "cell_type": "code",
      "metadata": {
        "id": "6ngxHVqdtd_9"
      },
      "source": [
        "easy = EasyEnsembleClassifier(random_state=42)"
      ],
      "execution_count": null,
      "outputs": []
    },
    {
      "cell_type": "code",
      "metadata": {
        "colab": {
          "base_uri": "https://localhost:8080/",
          "height": 1000
        },
        "id": "ksAI2DLghzNp",
        "outputId": "023069f9-2f3f-4c06-d8cf-278c75057ab2"
      },
      "source": [
        "easy = EasyEnsembleClassifier(base_estimator=LGBMClassifier(random_state=42), random_state=42, replacement=True)\n",
        "easy.fit(X_train_svm, y_train_svm)\n",
        "evaluate(easy, X_test_svm, y_test_svm)\n",
        "print(\"=======================================================================\")\n",
        "\n",
        "print(classification_report(y_train_svm, easy.predict(X_train_svm)))\n",
        "print(confusion_matrix(y_train_svm, easy.predict(X_train_svm)))\n",
        "print('Train Recall Score = ',recall_score(y_train_svm, easy.predict(X_train_svm)))\n",
        "print('Train Precision Score = ',precision_score(y_train_svm, easy.predict(X_train_svm)))\n",
        "print(\"Train f1 score =\", f1_score(y_train_svm, easy.predict(X_train_svm)))\n",
        "print(\"=======================================================================\")\n",
        "\n",
        "train_auc_roc_curve(easy, X_test_svm, y_test_svm, X_train_svm, y_train_svm)\n",
        "print(\"=======================================================================\")\n",
        "\n",
        "test_auc_roc_curve(easy, X_test_svm, y_test_svm, X_train_svm, y_train_svm)"
      ],
      "execution_count": 11,
      "outputs": [
        {
          "output_type": "stream",
          "text": [
            "/usr/local/lib/python3.7/dist-packages/sklearn/utils/deprecation.py:87: FutureWarning: Function safe_indexing is deprecated; safe_indexing is deprecated in version 0.22 and will be removed in version 0.24.\n",
            "  warnings.warn(msg, category=FutureWarning)\n",
            "/usr/local/lib/python3.7/dist-packages/sklearn/utils/deprecation.py:87: FutureWarning: Function safe_indexing is deprecated; safe_indexing is deprecated in version 0.22 and will be removed in version 0.24.\n",
            "  warnings.warn(msg, category=FutureWarning)\n",
            "/usr/local/lib/python3.7/dist-packages/sklearn/utils/deprecation.py:87: FutureWarning: Function safe_indexing is deprecated; safe_indexing is deprecated in version 0.22 and will be removed in version 0.24.\n",
            "  warnings.warn(msg, category=FutureWarning)\n",
            "/usr/local/lib/python3.7/dist-packages/sklearn/utils/deprecation.py:87: FutureWarning: Function safe_indexing is deprecated; safe_indexing is deprecated in version 0.22 and will be removed in version 0.24.\n",
            "  warnings.warn(msg, category=FutureWarning)\n",
            "/usr/local/lib/python3.7/dist-packages/sklearn/utils/deprecation.py:87: FutureWarning: Function safe_indexing is deprecated; safe_indexing is deprecated in version 0.22 and will be removed in version 0.24.\n",
            "  warnings.warn(msg, category=FutureWarning)\n",
            "/usr/local/lib/python3.7/dist-packages/sklearn/utils/deprecation.py:87: FutureWarning: Function safe_indexing is deprecated; safe_indexing is deprecated in version 0.22 and will be removed in version 0.24.\n",
            "  warnings.warn(msg, category=FutureWarning)\n",
            "/usr/local/lib/python3.7/dist-packages/sklearn/utils/deprecation.py:87: FutureWarning: Function safe_indexing is deprecated; safe_indexing is deprecated in version 0.22 and will be removed in version 0.24.\n",
            "  warnings.warn(msg, category=FutureWarning)\n",
            "/usr/local/lib/python3.7/dist-packages/sklearn/utils/deprecation.py:87: FutureWarning: Function safe_indexing is deprecated; safe_indexing is deprecated in version 0.22 and will be removed in version 0.24.\n",
            "  warnings.warn(msg, category=FutureWarning)\n",
            "/usr/local/lib/python3.7/dist-packages/sklearn/utils/deprecation.py:87: FutureWarning: Function safe_indexing is deprecated; safe_indexing is deprecated in version 0.22 and will be removed in version 0.24.\n",
            "  warnings.warn(msg, category=FutureWarning)\n",
            "/usr/local/lib/python3.7/dist-packages/sklearn/utils/deprecation.py:87: FutureWarning: Function safe_indexing is deprecated; safe_indexing is deprecated in version 0.22 and will be removed in version 0.24.\n",
            "  warnings.warn(msg, category=FutureWarning)\n"
          ],
          "name": "stderr"
        },
        {
          "output_type": "stream",
          "text": [
            "Average Error: 0.0978 degrees.\n",
            "              precision    recall  f1-score   support\n",
            "\n",
            "         0.0       0.90      0.91      0.90      3603\n",
            "         1.0       0.91      0.89      0.90      3588\n",
            "\n",
            "    accuracy                           0.90      7191\n",
            "   macro avg       0.90      0.90      0.90      7191\n",
            "weighted avg       0.90      0.90      0.90      7191\n",
            "\n",
            "[[3283  320]\n",
            " [ 383 3205]]\n",
            "Test Recall Score =  0.8932552954292085\n",
            "Test Precision Score =  0.9092198581560283\n",
            "Test F1 score =  0.9011668775481512\n",
            "=======================================================================\n",
            "              precision    recall  f1-score   support\n",
            "\n",
            "         0.0       0.91      0.93      0.92     10778\n",
            "         1.0       0.93      0.91      0.92     10793\n",
            "\n",
            "    accuracy                           0.92     21571\n",
            "   macro avg       0.92      0.92      0.92     21571\n",
            "weighted avg       0.92      0.92      0.92     21571\n",
            "\n",
            "[[9987  791]\n",
            " [ 942 9851]]\n",
            "Train Recall Score =  0.9127212081904938\n",
            "Train Precision Score =  0.9256718661905656\n",
            "Train f1 score = 0.9191509213902496\n",
            "=======================================================================\n",
            "Train auc score : 0.9196654844069931\n",
            "=======================================================================\n",
            "Test auc score : 0.9022202094686981\n"
          ],
          "name": "stdout"
        },
        {
          "output_type": "execute_result",
          "data": {
            "text/plain": [
              "<function __main__.test_auc_roc_curve>"
            ]
          },
          "metadata": {
            "tags": []
          },
          "execution_count": 11
        },
        {
          "output_type": "display_data",
          "data": {
            "image/png": "[encoded data removed]",
            "text/plain": [
              "<Figure size 432x288 with 1 Axes>"
            ]
          },
          "metadata": {
            "tags": [],
            "needs_background": "light"
          }
        }
      ]
    },
    {
      "cell_type": "code",
      "metadata": {
        "colab": {
          "base_uri": "https://localhost:8080/",
          "height": 356
        },
        "id": "7gasLdsjYngL",
        "outputId": "7661ae10-40e4-49a9-be80-1529bf20ad90"
      },
      "source": [
        "predict_probablity = pd.DataFrame(easy.predict_proba(X_test_svm))  #Predicting Probablity\n",
        "\n",
        "y_pred = easy.predict(X_test_svm)   #Just predicting the outcome as 1 or 0\n",
        "\n",
        "threshold = 0.5\n",
        "prediction = np.where(y_pred>threshold,'Will join the company','Will not join the company')\n",
        "\n",
        "prediction = prediction.T.reshape(-1,1)\n",
        "prediction = pd.DataFrame(prediction, columns=['Decision'])\n",
        "\n",
        "prediction = prediction.join(predict_probablity, lsuffix='_right', rsuffix='_left')\n",
        "prediction = prediction.rename({0 : 'Probablity of not joining', 1 : 'Probablity of joining'}, axis=1)\n",
        "\n",
        "prediction.head(10)"
      ],
      "execution_count": 12,
      "outputs": [
        {
          "output_type": "execute_result",
          "data": {
            "text/html": [
              "<div>\n",
              "<style scoped>\n",
              "    .dataframe tbody tr th:only-of-type {\n",
              "        vertical-align: middle;\n",
              "    }\n",
              "\n",
              "    .dataframe tbody tr th {\n",
              "        vertical-align: top;\n",
              "    }\n",
              "\n",
              "    .dataframe thead th {\n",
              "        text-align: right;\n",
              "    }\n",
              "</style>\n",
              "<table border=\"1\" class=\"dataframe\">\n",
              "  <thead>\n",
              "    <tr style=\"text-align: right;\">\n",
              "      <th></th>\n",
              "      <th>Decision</th>\n",
              "      <th>Probablity of not joining</th>\n",
              "      <th>Probablity of joining</th>\n",
              "    </tr>\n",
              "  </thead>\n",
              "  <tbody>\n",
              "    <tr>\n",
              "      <th>0</th>\n",
              "      <td>Will join the company</td>\n",
              "      <td>0.014238</td>\n",
              "      <td>0.985762</td>\n",
              "    </tr>\n",
              "    <tr>\n",
              "      <th>1</th>\n",
              "      <td>Will not join the company</td>\n",
              "      <td>0.883258</td>\n",
              "      <td>0.116742</td>\n",
              "    </tr>\n",
              "    <tr>\n",
              "      <th>2</th>\n",
              "      <td>Will not join the company</td>\n",
              "      <td>0.971935</td>\n",
              "      <td>0.028065</td>\n",
              "    </tr>\n",
              "    <tr>\n",
              "      <th>3</th>\n",
              "      <td>Will join the company</td>\n",
              "      <td>0.147396</td>\n",
              "      <td>0.852604</td>\n",
              "    </tr>\n",
              "    <tr>\n",
              "      <th>4</th>\n",
              "      <td>Will join the company</td>\n",
              "      <td>0.001590</td>\n",
              "      <td>0.998410</td>\n",
              "    </tr>\n",
              "    <tr>\n",
              "      <th>5</th>\n",
              "      <td>Will not join the company</td>\n",
              "      <td>0.887257</td>\n",
              "      <td>0.112743</td>\n",
              "    </tr>\n",
              "    <tr>\n",
              "      <th>6</th>\n",
              "      <td>Will not join the company</td>\n",
              "      <td>0.736079</td>\n",
              "      <td>0.263921</td>\n",
              "    </tr>\n",
              "    <tr>\n",
              "      <th>7</th>\n",
              "      <td>Will join the company</td>\n",
              "      <td>0.004034</td>\n",
              "      <td>0.995966</td>\n",
              "    </tr>\n",
              "    <tr>\n",
              "      <th>8</th>\n",
              "      <td>Will not join the company</td>\n",
              "      <td>0.669011</td>\n",
              "      <td>0.330989</td>\n",
              "    </tr>\n",
              "    <tr>\n",
              "      <th>9</th>\n",
              "      <td>Will join the company</td>\n",
              "      <td>0.354102</td>\n",
              "      <td>0.645898</td>\n",
              "    </tr>\n",
              "  </tbody>\n",
              "</table>\n",
              "</div>"
            ],
            "text/plain": [
              "                    Decision  Probablity of not joining  Probablity of joining\n",
              "0      Will join the company                   0.014238               0.985762\n",
              "1  Will not join the company                   0.883258               0.116742\n",
              "2  Will not join the company                   0.971935               0.028065\n",
              "3      Will join the company                   0.147396               0.852604\n",
              "4      Will join the company                   0.001590               0.998410\n",
              "5  Will not join the company                   0.887257               0.112743\n",
              "6  Will not join the company                   0.736079               0.263921\n",
              "7      Will join the company                   0.004034               0.995966\n",
              "8  Will not join the company                   0.669011               0.330989\n",
              "9      Will join the company                   0.354102               0.645898"
            ]
          },
          "metadata": {
            "tags": []
          },
          "execution_count": 12
        }
      ]
    },
    {
      "cell_type": "code",
      "metadata": {
        "colab": {
          "base_uri": "https://localhost:8080/"
        },
        "id": "fK7G_JWujp2I",
        "outputId": "17034fba-dd9c-4960-d8e3-aa57057f1976"
      },
      "source": [
        "eli5_permutation = PermutationImportance(estimator = easy, scoring = 'f1', random_state=42, n_iter = 5)\n",
        "eli5_permutation.fit(X_test_svm, y_test_svm)"
      ],
      "execution_count": 16,
      "outputs": [
        {
          "output_type": "execute_result",
          "data": {
            "text/plain": [
              "PermutationImportance(cv='prefit',\n",
              "                      estimator=EasyEnsembleClassifier(base_estimator=LGBMClassifier(boosting_type='gbdt',\n",
              "                                                                                     class_weight=None,\n",
              "                                                                                     colsample_bytree=1.0,\n",
              "                                                                                     importance_type='split',\n",
              "                                                                                     learning_rate=0.1,\n",
              "                                                                                     max_depth=-1,\n",
              "                                                                                     min_child_samples=20,\n",
              "                                                                                     min_child_weight=0.001,\n",
              "                                                                                     min_split_gain=0.0,\n",
              "                                                                                     n_estimators=100,\n",
              "                                                                                     n_jobs=-1,\n",
              "                                                                                     num_leaves=31,\n",
              "                                                                                     objective=None,\n",
              "                                                                                     random_state=42,\n",
              "                                                                                     reg_alpha=0.0,\n",
              "                                                                                     reg_lambda=0.0,\n",
              "                                                                                     silent=True,\n",
              "                                                                                     subsample=1.0,\n",
              "                                                                                     subsample_for_bin=200000,\n",
              "                                                                                     subsample_freq=0),\n",
              "                                                       n_estimators=10,\n",
              "                                                       n_jobs=1,\n",
              "                                                       random_state=42,\n",
              "                                                       replacement=True,\n",
              "                                                       sampling_strategy='auto',\n",
              "                                                       verbose=0,\n",
              "                                                       warm_start=False),\n",
              "                      n_iter=5, random_state=42, refit=True, scoring='f1')"
            ]
          },
          "metadata": {
            "tags": []
          },
          "execution_count": 16
        }
      ]
    },
    {
      "cell_type": "code",
      "metadata": {
        "colab": {
          "base_uri": "https://localhost:8080/",
          "height": 386
        },
        "id": "WiKDqCsQjpwB",
        "outputId": "4e549edf-ab54-4630-ba12-0b5fa38d9037"
      },
      "source": [
        "feature_importance_with_eli5=pd.DataFrame(np.hstack((np.array([X.columns[0:]]).T, eli5_permutation.feature_importances_.T.reshape(-1,1))), columns=['feature', 'importance'])\n",
        "feature_importance_with_eli5['importance']=pd.to_numeric(feature_importance_with_eli5['importance'])\n",
        "feature_importance_with_eli5.sort_values(by='importance', ascending=False)"
      ],
      "execution_count": 17,
      "outputs": [
        {
          "output_type": "execute_result",
          "data": {
            "text/html": [
              "<div>\n",
              "<style scoped>\n",
              "    .dataframe tbody tr th:only-of-type {\n",
              "        vertical-align: middle;\n",
              "    }\n",
              "\n",
              "    .dataframe tbody tr th {\n",
              "        vertical-align: top;\n",
              "    }\n",
              "\n",
              "    .dataframe thead th {\n",
              "        text-align: right;\n",
              "    }\n",
              "</style>\n",
              "<table border=\"1\" class=\"dataframe\">\n",
              "  <thead>\n",
              "    <tr style=\"text-align: right;\">\n",
              "      <th></th>\n",
              "      <th>feature</th>\n",
              "      <th>importance</th>\n",
              "    </tr>\n",
              "  </thead>\n",
              "  <tbody>\n",
              "    <tr>\n",
              "      <th>0</th>\n",
              "      <td>gender</td>\n",
              "      <td>0.119302</td>\n",
              "    </tr>\n",
              "    <tr>\n",
              "      <th>9</th>\n",
              "      <td>city_development_index</td>\n",
              "      <td>0.082364</td>\n",
              "    </tr>\n",
              "    <tr>\n",
              "      <th>7</th>\n",
              "      <td>company_type</td>\n",
              "      <td>0.025889</td>\n",
              "    </tr>\n",
              "    <tr>\n",
              "      <th>6</th>\n",
              "      <td>company_size</td>\n",
              "      <td>0.022595</td>\n",
              "    </tr>\n",
              "    <tr>\n",
              "      <th>1</th>\n",
              "      <td>relevent_experience</td>\n",
              "      <td>0.021471</td>\n",
              "    </tr>\n",
              "    <tr>\n",
              "      <th>4</th>\n",
              "      <td>major_discipline</td>\n",
              "      <td>0.019768</td>\n",
              "    </tr>\n",
              "    <tr>\n",
              "      <th>3</th>\n",
              "      <td>education_level</td>\n",
              "      <td>0.018065</td>\n",
              "    </tr>\n",
              "    <tr>\n",
              "      <th>8</th>\n",
              "      <td>last_new_job</td>\n",
              "      <td>0.011628</td>\n",
              "    </tr>\n",
              "    <tr>\n",
              "      <th>5</th>\n",
              "      <td>experience</td>\n",
              "      <td>0.004086</td>\n",
              "    </tr>\n",
              "    <tr>\n",
              "      <th>2</th>\n",
              "      <td>enrolled_university</td>\n",
              "      <td>0.002658</td>\n",
              "    </tr>\n",
              "    <tr>\n",
              "      <th>10</th>\n",
              "      <td>training_hours</td>\n",
              "      <td>0.002584</td>\n",
              "    </tr>\n",
              "  </tbody>\n",
              "</table>\n",
              "</div>"
            ],
            "text/plain": [
              "                   feature  importance\n",
              "0                   gender    0.119302\n",
              "9   city_development_index    0.082364\n",
              "7             company_type    0.025889\n",
              "6             company_size    0.022595\n",
              "1      relevent_experience    0.021471\n",
              "4         major_discipline    0.019768\n",
              "3          education_level    0.018065\n",
              "8             last_new_job    0.011628\n",
              "5               experience    0.004086\n",
              "2      enrolled_university    0.002658\n",
              "10          training_hours    0.002584"
            ]
          },
          "metadata": {
            "tags": []
          },
          "execution_count": 17
        }
      ]
    },
    {
      "cell_type": "code",
      "metadata": {
        "colab": {
          "base_uri": "https://localhost:8080/",
          "height": 520
        },
        "id": "obetQp8pjpoh",
        "outputId": "cf36f1a8-dcec-41b4-8825-81ad7596d3e0"
      },
      "source": [
        "plt.figure(figsize = (15,8))\n",
        "plt.xticks(fontsize=15)\n",
        "plt.yticks(fontsize=15)\n",
        "# We sort by importance and get the features\n",
        "sns.barplot(x = 'importance', y = 'feature', data = feature_importance_with_eli5, \n",
        "            order = feature_importance_with_eli5.sort_values('importance', ascending=False).feature) "
      ],
      "execution_count": 18,
      "outputs": [
        {
          "output_type": "execute_result",
          "data": {
            "text/plain": [
              "<matplotlib.axes._subplots.AxesSubplot at 0x7f7697ccecd0>"
            ]
          },
          "metadata": {
            "tags": []
          },
          "execution_count": 18
        },
        {
          "output_type": "display_data",
          "data": {
            "image/png": "[encoded data removed]",
            "text/plain": [
              "<Figure size 1080x576 with 1 Axes>"
            ]
          },
          "metadata": {
            "tags": [],
            "needs_background": "light"
          }
        }
      ]
    },
    {
      "cell_type": "code",
      "metadata": {
        "id": "Rp79eqCIczk_"
      },
      "source": [
        ""
      ],
      "execution_count": null,
      "outputs": []
    },
    {
      "cell_type": "markdown",
      "metadata": {
        "id": "rpb_buPqyDPE"
      },
      "source": [
        "#Test Data"
      ]
    },
    {
      "cell_type": "code",
      "metadata": {
        "id": "p45ARt95NG7U",
        "colab": {
          "base_uri": "https://localhost:8080/",
          "height": 202
        },
        "outputId": "81b34e5e-489f-4b00-e84b-16dfe833ac6c"
      },
      "source": [
        "missing_values = [\"n/a\", \"na\", \"--\", \"NONE\", \"None\", \"none\", \"NA\", \"N/A\",'inf','-inf', '?', 'Null', 'NULL']\n",
        "test_data = pd.read_csv('aug_test.csv', na_values= missing_values)\n",
        "test_data.drop(['enrollee_id', 'city'], 1, inplace=True)\n",
        "test_data.head()"
      ],
      "execution_count": 34,
      "outputs": [
        {
          "output_type": "execute_result",
          "data": {
            "text/html": [
              "<div>\n",
              "<style scoped>\n",
              "    .dataframe tbody tr th:only-of-type {\n",
              "        vertical-align: middle;\n",
              "    }\n",
              "\n",
              "    .dataframe tbody tr th {\n",
              "        vertical-align: top;\n",
              "    }\n",
              "\n",
              "    .dataframe thead th {\n",
              "        text-align: right;\n",
              "    }\n",
              "</style>\n",
              "<table border=\"1\" class=\"dataframe\">\n",
              "  <thead>\n",
              "    <tr style=\"text-align: right;\">\n",
              "      <th></th>\n",
              "      <th>city_development_index</th>\n",
              "      <th>gender</th>\n",
              "      <th>relevent_experience</th>\n",
              "      <th>enrolled_university</th>\n",
              "      <th>education_level</th>\n",
              "      <th>major_discipline</th>\n",
              "      <th>experience</th>\n",
              "      <th>company_size</th>\n",
              "      <th>company_type</th>\n",
              "      <th>last_new_job</th>\n",
              "      <th>training_hours</th>\n",
              "    </tr>\n",
              "  </thead>\n",
              "  <tbody>\n",
              "    <tr>\n",
              "      <th>0</th>\n",
              "      <td>0.827</td>\n",
              "      <td>Male</td>\n",
              "      <td>Has relevent experience</td>\n",
              "      <td>Full time course</td>\n",
              "      <td>Graduate</td>\n",
              "      <td>STEM</td>\n",
              "      <td>9</td>\n",
              "      <td>&lt;10</td>\n",
              "      <td>NaN</td>\n",
              "      <td>1</td>\n",
              "      <td>21</td>\n",
              "    </tr>\n",
              "    <tr>\n",
              "      <th>1</th>\n",
              "      <td>0.920</td>\n",
              "      <td>Female</td>\n",
              "      <td>Has relevent experience</td>\n",
              "      <td>no_enrollment</td>\n",
              "      <td>Graduate</td>\n",
              "      <td>STEM</td>\n",
              "      <td>5</td>\n",
              "      <td>NaN</td>\n",
              "      <td>Pvt Ltd</td>\n",
              "      <td>1</td>\n",
              "      <td>98</td>\n",
              "    </tr>\n",
              "    <tr>\n",
              "      <th>2</th>\n",
              "      <td>0.624</td>\n",
              "      <td>Male</td>\n",
              "      <td>No relevent experience</td>\n",
              "      <td>no_enrollment</td>\n",
              "      <td>High School</td>\n",
              "      <td>NaN</td>\n",
              "      <td>&lt;1</td>\n",
              "      <td>NaN</td>\n",
              "      <td>Pvt Ltd</td>\n",
              "      <td>never</td>\n",
              "      <td>15</td>\n",
              "    </tr>\n",
              "    <tr>\n",
              "      <th>3</th>\n",
              "      <td>0.827</td>\n",
              "      <td>Male</td>\n",
              "      <td>Has relevent experience</td>\n",
              "      <td>no_enrollment</td>\n",
              "      <td>Masters</td>\n",
              "      <td>STEM</td>\n",
              "      <td>11</td>\n",
              "      <td>10/49</td>\n",
              "      <td>Pvt Ltd</td>\n",
              "      <td>1</td>\n",
              "      <td>39</td>\n",
              "    </tr>\n",
              "    <tr>\n",
              "      <th>4</th>\n",
              "      <td>0.920</td>\n",
              "      <td>Male</td>\n",
              "      <td>Has relevent experience</td>\n",
              "      <td>no_enrollment</td>\n",
              "      <td>Graduate</td>\n",
              "      <td>STEM</td>\n",
              "      <td>&gt;20</td>\n",
              "      <td>10000+</td>\n",
              "      <td>Pvt Ltd</td>\n",
              "      <td>&gt;4</td>\n",
              "      <td>72</td>\n",
              "    </tr>\n",
              "  </tbody>\n",
              "</table>\n",
              "</div>"
            ],
            "text/plain": [
              "   city_development_index  gender  ... last_new_job training_hours\n",
              "0                   0.827    Male  ...            1             21\n",
              "1                   0.920  Female  ...            1             98\n",
              "2                   0.624    Male  ...        never             15\n",
              "3                   0.827    Male  ...            1             39\n",
              "4                   0.920    Male  ...           >4             72\n",
              "\n",
              "[5 rows x 11 columns]"
            ]
          },
          "metadata": {
            "tags": []
          },
          "execution_count": 34
        }
      ]
    },
    {
      "cell_type": "code",
      "metadata": {
        "colab": {
          "base_uri": "https://localhost:8080/"
        },
        "id": "H-WijasKirki",
        "outputId": "519b1995-aefa-487f-a6e2-fb1491993748"
      },
      "source": [
        "test_data.isnull().sum()"
      ],
      "execution_count": null,
      "outputs": [
        {
          "output_type": "execute_result",
          "data": {
            "text/plain": [
              "city_development_index      0\n",
              "gender                    508\n",
              "relevent_experience         0\n",
              "enrolled_university        31\n",
              "education_level            52\n",
              "major_discipline          312\n",
              "experience                  5\n",
              "company_size              622\n",
              "company_type              634\n",
              "last_new_job               40\n",
              "training_hours              0\n",
              "dtype: int64"
            ]
          },
          "metadata": {
            "tags": []
          },
          "execution_count": 270
        }
      ]
    },
    {
      "cell_type": "code",
      "metadata": {
        "colab": {
          "base_uri": "https://localhost:8080/"
        },
        "id": "sbRgwm4VQePo",
        "outputId": "8b44c831-e8bf-42b6-d534-84a5830126d8"
      },
      "source": [
        "test_data.last_new_job.value_counts()"
      ],
      "execution_count": null,
      "outputs": [
        {
          "output_type": "execute_result",
          "data": {
            "text/plain": [
              "1        884\n",
              ">4       353\n",
              "2        342\n",
              "never    258\n",
              "3        133\n",
              "4        119\n",
              "Name: last_new_job, dtype: int64"
            ]
          },
          "metadata": {
            "tags": []
          },
          "execution_count": 64
        }
      ]
    },
    {
      "cell_type": "code",
      "metadata": {
        "id": "Px695QoSSV5W"
      },
      "source": [
        "test_data['company_size'] = test_data['company_size'].replace('10/49', np.nan)"
      ],
      "execution_count": 35,
      "outputs": []
    },
    {
      "cell_type": "code",
      "metadata": {
        "colab": {
          "base_uri": "https://localhost:8080/"
        },
        "id": "yOiLaL28Vdn8",
        "outputId": "f4f188d1-3cd8-4f35-af72-ca29f0e8d174"
      },
      "source": [
        "test_data.company_size.value_counts()"
      ],
      "execution_count": 21,
      "outputs": [
        {
          "output_type": "execute_result",
          "data": {
            "text/plain": [
              "50-99        338\n",
              "100-500      318\n",
              "10000+       217\n",
              "<10          163\n",
              "1000-4999    143\n",
              "500-999       88\n",
              "5000-9999     68\n",
              "Name: company_size, dtype: int64"
            ]
          },
          "metadata": {
            "tags": []
          },
          "execution_count": 21
        }
      ]
    },
    {
      "cell_type": "code",
      "metadata": {
        "id": "80StiI6diy7x"
      },
      "source": [
        "to_LabelEncode_test = test_data[['gender', 'relevent_experience',\n",
        "       'enrolled_university', 'education_level', 'major_discipline',\n",
        "       'experience', 'company_size', 'company_type', 'last_new_job']]\n",
        "\n",
        "test_temp = to_LabelEncode_test.astype(\"str\").apply(le.fit_transform)\n",
        "test_final = test_temp.where(~to_LabelEncode_test.isna(), to_LabelEncode_test)"
      ],
      "execution_count": 36,
      "outputs": []
    },
    {
      "cell_type": "code",
      "metadata": {
        "id": "itEMQXuUjOfA"
      },
      "source": [
        "test_data.drop(['gender', 'relevent_experience','enrolled_university', 'education_level', 'major_discipline','experience', 'company_size', 'company_type', 'last_new_job'],1,inplace=True)"
      ],
      "execution_count": 37,
      "outputs": []
    },
    {
      "cell_type": "code",
      "metadata": {
        "colab": {
          "base_uri": "https://localhost:8080/",
          "height": 416
        },
        "id": "UVYdl1A1jUcs",
        "outputId": "ff0840e3-c21c-4a83-9b23-94f8d77e640c"
      },
      "source": [
        "test_data"
      ],
      "execution_count": null,
      "outputs": [
        {
          "output_type": "execute_result",
          "data": {
            "text/html": [
              "<div>\n",
              "<style scoped>\n",
              "    .dataframe tbody tr th:only-of-type {\n",
              "        vertical-align: middle;\n",
              "    }\n",
              "\n",
              "    .dataframe tbody tr th {\n",
              "        vertical-align: top;\n",
              "    }\n",
              "\n",
              "    .dataframe thead th {\n",
              "        text-align: right;\n",
              "    }\n",
              "</style>\n",
              "<table border=\"1\" class=\"dataframe\">\n",
              "  <thead>\n",
              "    <tr style=\"text-align: right;\">\n",
              "      <th></th>\n",
              "      <th>city_development_index</th>\n",
              "      <th>training_hours</th>\n",
              "    </tr>\n",
              "  </thead>\n",
              "  <tbody>\n",
              "    <tr>\n",
              "      <th>0</th>\n",
              "      <td>0.827</td>\n",
              "      <td>21</td>\n",
              "    </tr>\n",
              "    <tr>\n",
              "      <th>1</th>\n",
              "      <td>0.920</td>\n",
              "      <td>98</td>\n",
              "    </tr>\n",
              "    <tr>\n",
              "      <th>2</th>\n",
              "      <td>0.624</td>\n",
              "      <td>15</td>\n",
              "    </tr>\n",
              "    <tr>\n",
              "      <th>3</th>\n",
              "      <td>0.827</td>\n",
              "      <td>39</td>\n",
              "    </tr>\n",
              "    <tr>\n",
              "      <th>4</th>\n",
              "      <td>0.920</td>\n",
              "      <td>72</td>\n",
              "    </tr>\n",
              "    <tr>\n",
              "      <th>...</th>\n",
              "      <td>...</td>\n",
              "      <td>...</td>\n",
              "    </tr>\n",
              "    <tr>\n",
              "      <th>2124</th>\n",
              "      <td>0.920</td>\n",
              "      <td>15</td>\n",
              "    </tr>\n",
              "    <tr>\n",
              "      <th>2125</th>\n",
              "      <td>0.897</td>\n",
              "      <td>30</td>\n",
              "    </tr>\n",
              "    <tr>\n",
              "      <th>2126</th>\n",
              "      <td>0.887</td>\n",
              "      <td>18</td>\n",
              "    </tr>\n",
              "    <tr>\n",
              "      <th>2127</th>\n",
              "      <td>0.804</td>\n",
              "      <td>84</td>\n",
              "    </tr>\n",
              "    <tr>\n",
              "      <th>2128</th>\n",
              "      <td>0.804</td>\n",
              "      <td>11</td>\n",
              "    </tr>\n",
              "  </tbody>\n",
              "</table>\n",
              "<p>2129 rows × 2 columns</p>\n",
              "</div>"
            ],
            "text/plain": [
              "      city_development_index  training_hours\n",
              "0                      0.827              21\n",
              "1                      0.920              98\n",
              "2                      0.624              15\n",
              "3                      0.827              39\n",
              "4                      0.920              72\n",
              "...                      ...             ...\n",
              "2124                   0.920              15\n",
              "2125                   0.897              30\n",
              "2126                   0.887              18\n",
              "2127                   0.804              84\n",
              "2128                   0.804              11\n",
              "\n",
              "[2129 rows x 2 columns]"
            ]
          },
          "metadata": {
            "tags": []
          },
          "execution_count": 276
        }
      ]
    },
    {
      "cell_type": "code",
      "metadata": {
        "id": "Wze3L8l2jaUE"
      },
      "source": [
        "test_data = test_final.join(test_data)"
      ],
      "execution_count": 38,
      "outputs": []
    },
    {
      "cell_type": "code",
      "metadata": {
        "colab": {
          "base_uri": "https://localhost:8080/",
          "height": 436
        },
        "id": "VAeaEmenjeOj",
        "outputId": "c4132129-ea70-4874-ec1a-60cc52987077"
      },
      "source": [
        "test_data"
      ],
      "execution_count": null,
      "outputs": [
        {
          "output_type": "execute_result",
          "data": {
            "text/html": [
              "<div>\n",
              "<style scoped>\n",
              "    .dataframe tbody tr th:only-of-type {\n",
              "        vertical-align: middle;\n",
              "    }\n",
              "\n",
              "    .dataframe tbody tr th {\n",
              "        vertical-align: top;\n",
              "    }\n",
              "\n",
              "    .dataframe thead th {\n",
              "        text-align: right;\n",
              "    }\n",
              "</style>\n",
              "<table border=\"1\" class=\"dataframe\">\n",
              "  <thead>\n",
              "    <tr style=\"text-align: right;\">\n",
              "      <th></th>\n",
              "      <th>gender</th>\n",
              "      <th>relevent_experience</th>\n",
              "      <th>enrolled_university</th>\n",
              "      <th>education_level</th>\n",
              "      <th>major_discipline</th>\n",
              "      <th>experience</th>\n",
              "      <th>company_size</th>\n",
              "      <th>company_type</th>\n",
              "      <th>last_new_job</th>\n",
              "      <th>city_development_index</th>\n",
              "      <th>training_hours</th>\n",
              "    </tr>\n",
              "  </thead>\n",
              "  <tbody>\n",
              "    <tr>\n",
              "      <th>0</th>\n",
              "      <td>1</td>\n",
              "      <td>0</td>\n",
              "      <td>0</td>\n",
              "      <td>0</td>\n",
              "      <td>5</td>\n",
              "      <td>19</td>\n",
              "      <td>6</td>\n",
              "      <td>NaN</td>\n",
              "      <td>0</td>\n",
              "      <td>0.827</td>\n",
              "      <td>21</td>\n",
              "    </tr>\n",
              "    <tr>\n",
              "      <th>1</th>\n",
              "      <td>0</td>\n",
              "      <td>0</td>\n",
              "      <td>3</td>\n",
              "      <td>0</td>\n",
              "      <td>5</td>\n",
              "      <td>15</td>\n",
              "      <td>NaN</td>\n",
              "      <td>5</td>\n",
              "      <td>0</td>\n",
              "      <td>0.920</td>\n",
              "      <td>98</td>\n",
              "    </tr>\n",
              "    <tr>\n",
              "      <th>2</th>\n",
              "      <td>1</td>\n",
              "      <td>1</td>\n",
              "      <td>3</td>\n",
              "      <td>1</td>\n",
              "      <td>NaN</td>\n",
              "      <td>20</td>\n",
              "      <td>NaN</td>\n",
              "      <td>5</td>\n",
              "      <td>6</td>\n",
              "      <td>0.624</td>\n",
              "      <td>15</td>\n",
              "    </tr>\n",
              "    <tr>\n",
              "      <th>3</th>\n",
              "      <td>1</td>\n",
              "      <td>0</td>\n",
              "      <td>3</td>\n",
              "      <td>2</td>\n",
              "      <td>5</td>\n",
              "      <td>2</td>\n",
              "      <td>NaN</td>\n",
              "      <td>5</td>\n",
              "      <td>0</td>\n",
              "      <td>0.827</td>\n",
              "      <td>39</td>\n",
              "    </tr>\n",
              "    <tr>\n",
              "      <th>4</th>\n",
              "      <td>1</td>\n",
              "      <td>0</td>\n",
              "      <td>3</td>\n",
              "      <td>0</td>\n",
              "      <td>5</td>\n",
              "      <td>21</td>\n",
              "      <td>2</td>\n",
              "      <td>5</td>\n",
              "      <td>4</td>\n",
              "      <td>0.920</td>\n",
              "      <td>72</td>\n",
              "    </tr>\n",
              "    <tr>\n",
              "      <th>...</th>\n",
              "      <td>...</td>\n",
              "      <td>...</td>\n",
              "      <td>...</td>\n",
              "      <td>...</td>\n",
              "      <td>...</td>\n",
              "      <td>...</td>\n",
              "      <td>...</td>\n",
              "      <td>...</td>\n",
              "      <td>...</td>\n",
              "      <td>...</td>\n",
              "      <td>...</td>\n",
              "    </tr>\n",
              "    <tr>\n",
              "      <th>2124</th>\n",
              "      <td>1</td>\n",
              "      <td>1</td>\n",
              "      <td>3</td>\n",
              "      <td>0</td>\n",
              "      <td>2</td>\n",
              "      <td>7</td>\n",
              "      <td>NaN</td>\n",
              "      <td>4</td>\n",
              "      <td>3</td>\n",
              "      <td>0.920</td>\n",
              "      <td>15</td>\n",
              "    </tr>\n",
              "    <tr>\n",
              "      <th>2125</th>\n",
              "      <td>1</td>\n",
              "      <td>0</td>\n",
              "      <td>3</td>\n",
              "      <td>2</td>\n",
              "      <td>5</td>\n",
              "      <td>9</td>\n",
              "      <td>NaN</td>\n",
              "      <td>NaN</td>\n",
              "      <td>1</td>\n",
              "      <td>0.897</td>\n",
              "      <td>30</td>\n",
              "    </tr>\n",
              "    <tr>\n",
              "      <th>2126</th>\n",
              "      <td>1</td>\n",
              "      <td>1</td>\n",
              "      <td>3</td>\n",
              "      <td>4</td>\n",
              "      <td>NaN</td>\n",
              "      <td>13</td>\n",
              "      <td>NaN</td>\n",
              "      <td>5</td>\n",
              "      <td>6</td>\n",
              "      <td>0.887</td>\n",
              "      <td>18</td>\n",
              "    </tr>\n",
              "    <tr>\n",
              "      <th>2127</th>\n",
              "      <td>1</td>\n",
              "      <td>0</td>\n",
              "      <td>0</td>\n",
              "      <td>1</td>\n",
              "      <td>NaN</td>\n",
              "      <td>17</td>\n",
              "      <td>0</td>\n",
              "      <td>4</td>\n",
              "      <td>0</td>\n",
              "      <td>0.804</td>\n",
              "      <td>84</td>\n",
              "    </tr>\n",
              "    <tr>\n",
              "      <th>2128</th>\n",
              "      <td>1</td>\n",
              "      <td>0</td>\n",
              "      <td>3</td>\n",
              "      <td>2</td>\n",
              "      <td>5</td>\n",
              "      <td>6</td>\n",
              "      <td>2</td>\n",
              "      <td>5</td>\n",
              "      <td>1</td>\n",
              "      <td>0.804</td>\n",
              "      <td>11</td>\n",
              "    </tr>\n",
              "  </tbody>\n",
              "</table>\n",
              "<p>2129 rows × 11 columns</p>\n",
              "</div>"
            ],
            "text/plain": [
              "     gender  relevent_experience  ... city_development_index training_hours\n",
              "0         1                    0  ...                  0.827             21\n",
              "1         0                    0  ...                  0.920             98\n",
              "2         1                    1  ...                  0.624             15\n",
              "3         1                    0  ...                  0.827             39\n",
              "4         1                    0  ...                  0.920             72\n",
              "...     ...                  ...  ...                    ...            ...\n",
              "2124      1                    1  ...                  0.920             15\n",
              "2125      1                    0  ...                  0.897             30\n",
              "2126      1                    1  ...                  0.887             18\n",
              "2127      1                    0  ...                  0.804             84\n",
              "2128      1                    0  ...                  0.804             11\n",
              "\n",
              "[2129 rows x 11 columns]"
            ]
          },
          "metadata": {
            "tags": []
          },
          "execution_count": 278
        }
      ]
    },
    {
      "cell_type": "code",
      "metadata": {
        "colab": {
          "base_uri": "https://localhost:8080/",
          "height": 470
        },
        "id": "ZGus3cBijfwq",
        "outputId": "36f485fb-f6e2-42a1-e146-ebe4a580590d"
      },
      "source": [
        "mice_imputer = IterativeImputer(random_state=42, estimator=lr, max_iter=10, n_nearest_features=2, imputation_order = 'roman')\n",
        "cleaned_test = mice_imputer.fit_transform(test_data)\n",
        "\n",
        "cleaned_test = pd.DataFrame(cleaned_test)\n",
        "cleaned_test.columns = ['gender', 'relevent_experience', 'enrolled_university', 'education_level', 'major_discipline',\n",
        "                                                         'experience', 'company_size', 'company_type', 'last_new_job', 'city_development_index', 'training_hours']\n",
        "                                                        \n",
        "cleaned_test"
      ],
      "execution_count": 43,
      "outputs": [
        {
          "output_type": "stream",
          "text": [
            "/usr/local/lib/python3.7/dist-packages/sklearn/impute/_iterative.py:638: ConvergenceWarning: [IterativeImputer] Early stopping criterion not reached.\n",
            "  \" reached.\", ConvergenceWarning)\n"
          ],
          "name": "stderr"
        },
        {
          "output_type": "execute_result",
          "data": {
            "text/html": [
              "<div>\n",
              "<style scoped>\n",
              "    .dataframe tbody tr th:only-of-type {\n",
              "        vertical-align: middle;\n",
              "    }\n",
              "\n",
              "    .dataframe tbody tr th {\n",
              "        vertical-align: top;\n",
              "    }\n",
              "\n",
              "    .dataframe thead th {\n",
              "        text-align: right;\n",
              "    }\n",
              "</style>\n",
              "<table border=\"1\" class=\"dataframe\">\n",
              "  <thead>\n",
              "    <tr style=\"text-align: right;\">\n",
              "      <th></th>\n",
              "      <th>gender</th>\n",
              "      <th>relevent_experience</th>\n",
              "      <th>enrolled_university</th>\n",
              "      <th>education_level</th>\n",
              "      <th>major_discipline</th>\n",
              "      <th>experience</th>\n",
              "      <th>company_size</th>\n",
              "      <th>company_type</th>\n",
              "      <th>last_new_job</th>\n",
              "      <th>city_development_index</th>\n",
              "      <th>training_hours</th>\n",
              "    </tr>\n",
              "  </thead>\n",
              "  <tbody>\n",
              "    <tr>\n",
              "      <th>0</th>\n",
              "      <td>1.0</td>\n",
              "      <td>0.0</td>\n",
              "      <td>0.0</td>\n",
              "      <td>0.0</td>\n",
              "      <td>5.000000</td>\n",
              "      <td>19.0</td>\n",
              "      <td>6.000000</td>\n",
              "      <td>4.044265</td>\n",
              "      <td>0.0</td>\n",
              "      <td>0.827</td>\n",
              "      <td>21.0</td>\n",
              "    </tr>\n",
              "    <tr>\n",
              "      <th>1</th>\n",
              "      <td>0.0</td>\n",
              "      <td>0.0</td>\n",
              "      <td>3.0</td>\n",
              "      <td>0.0</td>\n",
              "      <td>5.000000</td>\n",
              "      <td>15.0</td>\n",
              "      <td>2.346937</td>\n",
              "      <td>5.000000</td>\n",
              "      <td>0.0</td>\n",
              "      <td>0.920</td>\n",
              "      <td>98.0</td>\n",
              "    </tr>\n",
              "    <tr>\n",
              "      <th>2</th>\n",
              "      <td>1.0</td>\n",
              "      <td>1.0</td>\n",
              "      <td>3.0</td>\n",
              "      <td>1.0</td>\n",
              "      <td>4.673732</td>\n",
              "      <td>20.0</td>\n",
              "      <td>2.441230</td>\n",
              "      <td>5.000000</td>\n",
              "      <td>6.0</td>\n",
              "      <td>0.624</td>\n",
              "      <td>15.0</td>\n",
              "    </tr>\n",
              "    <tr>\n",
              "      <th>3</th>\n",
              "      <td>1.0</td>\n",
              "      <td>0.0</td>\n",
              "      <td>3.0</td>\n",
              "      <td>2.0</td>\n",
              "      <td>5.000000</td>\n",
              "      <td>2.0</td>\n",
              "      <td>2.397268</td>\n",
              "      <td>5.000000</td>\n",
              "      <td>0.0</td>\n",
              "      <td>0.827</td>\n",
              "      <td>39.0</td>\n",
              "    </tr>\n",
              "    <tr>\n",
              "      <th>4</th>\n",
              "      <td>1.0</td>\n",
              "      <td>0.0</td>\n",
              "      <td>3.0</td>\n",
              "      <td>0.0</td>\n",
              "      <td>5.000000</td>\n",
              "      <td>21.0</td>\n",
              "      <td>2.000000</td>\n",
              "      <td>5.000000</td>\n",
              "      <td>4.0</td>\n",
              "      <td>0.920</td>\n",
              "      <td>72.0</td>\n",
              "    </tr>\n",
              "    <tr>\n",
              "      <th>...</th>\n",
              "      <td>...</td>\n",
              "      <td>...</td>\n",
              "      <td>...</td>\n",
              "      <td>...</td>\n",
              "      <td>...</td>\n",
              "      <td>...</td>\n",
              "      <td>...</td>\n",
              "      <td>...</td>\n",
              "      <td>...</td>\n",
              "      <td>...</td>\n",
              "      <td>...</td>\n",
              "    </tr>\n",
              "    <tr>\n",
              "      <th>2124</th>\n",
              "      <td>1.0</td>\n",
              "      <td>1.0</td>\n",
              "      <td>3.0</td>\n",
              "      <td>0.0</td>\n",
              "      <td>2.000000</td>\n",
              "      <td>7.0</td>\n",
              "      <td>2.485192</td>\n",
              "      <td>4.000000</td>\n",
              "      <td>3.0</td>\n",
              "      <td>0.920</td>\n",
              "      <td>15.0</td>\n",
              "    </tr>\n",
              "    <tr>\n",
              "      <th>2125</th>\n",
              "      <td>1.0</td>\n",
              "      <td>0.0</td>\n",
              "      <td>3.0</td>\n",
              "      <td>2.0</td>\n",
              "      <td>5.000000</td>\n",
              "      <td>9.0</td>\n",
              "      <td>2.397268</td>\n",
              "      <td>4.253272</td>\n",
              "      <td>1.0</td>\n",
              "      <td>0.897</td>\n",
              "      <td>30.0</td>\n",
              "    </tr>\n",
              "    <tr>\n",
              "      <th>2126</th>\n",
              "      <td>1.0</td>\n",
              "      <td>1.0</td>\n",
              "      <td>3.0</td>\n",
              "      <td>4.0</td>\n",
              "      <td>4.700745</td>\n",
              "      <td>13.0</td>\n",
              "      <td>2.309345</td>\n",
              "      <td>5.000000</td>\n",
              "      <td>6.0</td>\n",
              "      <td>0.887</td>\n",
              "      <td>18.0</td>\n",
              "    </tr>\n",
              "    <tr>\n",
              "      <th>2127</th>\n",
              "      <td>1.0</td>\n",
              "      <td>0.0</td>\n",
              "      <td>0.0</td>\n",
              "      <td>1.0</td>\n",
              "      <td>4.741952</td>\n",
              "      <td>17.0</td>\n",
              "      <td>0.000000</td>\n",
              "      <td>4.000000</td>\n",
              "      <td>0.0</td>\n",
              "      <td>0.804</td>\n",
              "      <td>84.0</td>\n",
              "    </tr>\n",
              "    <tr>\n",
              "      <th>2128</th>\n",
              "      <td>1.0</td>\n",
              "      <td>0.0</td>\n",
              "      <td>3.0</td>\n",
              "      <td>2.0</td>\n",
              "      <td>5.000000</td>\n",
              "      <td>6.0</td>\n",
              "      <td>2.000000</td>\n",
              "      <td>5.000000</td>\n",
              "      <td>1.0</td>\n",
              "      <td>0.804</td>\n",
              "      <td>11.0</td>\n",
              "    </tr>\n",
              "  </tbody>\n",
              "</table>\n",
              "<p>2129 rows × 11 columns</p>\n",
              "</div>"
            ],
            "text/plain": [
              "      gender  relevent_experience  ...  city_development_index  training_hours\n",
              "0        1.0                  0.0  ...                   0.827            21.0\n",
              "1        0.0                  0.0  ...                   0.920            98.0\n",
              "2        1.0                  1.0  ...                   0.624            15.0\n",
              "3        1.0                  0.0  ...                   0.827            39.0\n",
              "4        1.0                  0.0  ...                   0.920            72.0\n",
              "...      ...                  ...  ...                     ...             ...\n",
              "2124     1.0                  1.0  ...                   0.920            15.0\n",
              "2125     1.0                  0.0  ...                   0.897            30.0\n",
              "2126     1.0                  1.0  ...                   0.887            18.0\n",
              "2127     1.0                  0.0  ...                   0.804            84.0\n",
              "2128     1.0                  0.0  ...                   0.804            11.0\n",
              "\n",
              "[2129 rows x 11 columns]"
            ]
          },
          "metadata": {
            "tags": []
          },
          "execution_count": 43
        }
      ]
    },
    {
      "cell_type": "code",
      "metadata": {
        "colab": {
          "base_uri": "https://localhost:8080/"
        },
        "id": "Y3GafIcXyShf",
        "outputId": "6e40635b-a93b-41c9-8580-a7f039a1399f"
      },
      "source": [
        "cleaned_test.isnull().sum()"
      ],
      "execution_count": 44,
      "outputs": [
        {
          "output_type": "execute_result",
          "data": {
            "text/plain": [
              "gender                    0\n",
              "relevent_experience       0\n",
              "enrolled_university       0\n",
              "education_level           0\n",
              "major_discipline          0\n",
              "experience                0\n",
              "company_size              0\n",
              "company_type              0\n",
              "last_new_job              0\n",
              "city_development_index    0\n",
              "training_hours            0\n",
              "dtype: int64"
            ]
          },
          "metadata": {
            "tags": []
          },
          "execution_count": 44
        }
      ]
    },
    {
      "cell_type": "code",
      "metadata": {
        "id": "_qR-yVPfybzX"
      },
      "source": [
        "cleaned_test.to_csv('final_test_data.csv', index=False)"
      ],
      "execution_count": null,
      "outputs": []
    },
    {
      "cell_type": "code",
      "metadata": {
        "colab": {
          "base_uri": "https://localhost:8080/",
          "height": 202
        },
        "id": "nunrZ4yMyzEb",
        "outputId": "97a704ee-38b0-470b-e692-9efbb5095123"
      },
      "source": [
        "final_test_data = pd.read_csv('final_test_data.csv')\n",
        "final_test_data.head()"
      ],
      "execution_count": 45,
      "outputs": [
        {
          "output_type": "execute_result",
          "data": {
            "text/html": [
              "<div>\n",
              "<style scoped>\n",
              "    .dataframe tbody tr th:only-of-type {\n",
              "        vertical-align: middle;\n",
              "    }\n",
              "\n",
              "    .dataframe tbody tr th {\n",
              "        vertical-align: top;\n",
              "    }\n",
              "\n",
              "    .dataframe thead th {\n",
              "        text-align: right;\n",
              "    }\n",
              "</style>\n",
              "<table border=\"1\" class=\"dataframe\">\n",
              "  <thead>\n",
              "    <tr style=\"text-align: right;\">\n",
              "      <th></th>\n",
              "      <th>gender</th>\n",
              "      <th>relevent_experience</th>\n",
              "      <th>enrolled_university</th>\n",
              "      <th>education_level</th>\n",
              "      <th>major_discipline</th>\n",
              "      <th>experience</th>\n",
              "      <th>company_size</th>\n",
              "      <th>company_type</th>\n",
              "      <th>last_new_job</th>\n",
              "      <th>city_development_index</th>\n",
              "      <th>training_hours</th>\n",
              "    </tr>\n",
              "  </thead>\n",
              "  <tbody>\n",
              "    <tr>\n",
              "      <th>0</th>\n",
              "      <td>1.0</td>\n",
              "      <td>0.0</td>\n",
              "      <td>0.0</td>\n",
              "      <td>0.0</td>\n",
              "      <td>5.000000</td>\n",
              "      <td>19.0</td>\n",
              "      <td>7.000000</td>\n",
              "      <td>4.374017</td>\n",
              "      <td>0.0</td>\n",
              "      <td>0.827</td>\n",
              "      <td>21.0</td>\n",
              "    </tr>\n",
              "    <tr>\n",
              "      <th>1</th>\n",
              "      <td>0.0</td>\n",
              "      <td>0.0</td>\n",
              "      <td>3.0</td>\n",
              "      <td>0.0</td>\n",
              "      <td>5.000000</td>\n",
              "      <td>15.0</td>\n",
              "      <td>3.038146</td>\n",
              "      <td>5.000000</td>\n",
              "      <td>0.0</td>\n",
              "      <td>0.920</td>\n",
              "      <td>98.0</td>\n",
              "    </tr>\n",
              "    <tr>\n",
              "      <th>2</th>\n",
              "      <td>1.0</td>\n",
              "      <td>1.0</td>\n",
              "      <td>3.0</td>\n",
              "      <td>1.0</td>\n",
              "      <td>4.648174</td>\n",
              "      <td>20.0</td>\n",
              "      <td>3.144974</td>\n",
              "      <td>5.000000</td>\n",
              "      <td>6.0</td>\n",
              "      <td>0.624</td>\n",
              "      <td>15.0</td>\n",
              "    </tr>\n",
              "    <tr>\n",
              "      <th>3</th>\n",
              "      <td>1.0</td>\n",
              "      <td>0.0</td>\n",
              "      <td>3.0</td>\n",
              "      <td>2.0</td>\n",
              "      <td>5.000000</td>\n",
              "      <td>2.0</td>\n",
              "      <td>0.000000</td>\n",
              "      <td>5.000000</td>\n",
              "      <td>0.0</td>\n",
              "      <td>0.827</td>\n",
              "      <td>39.0</td>\n",
              "    </tr>\n",
              "    <tr>\n",
              "      <th>4</th>\n",
              "      <td>1.0</td>\n",
              "      <td>0.0</td>\n",
              "      <td>3.0</td>\n",
              "      <td>0.0</td>\n",
              "      <td>5.000000</td>\n",
              "      <td>21.0</td>\n",
              "      <td>3.000000</td>\n",
              "      <td>5.000000</td>\n",
              "      <td>4.0</td>\n",
              "      <td>0.920</td>\n",
              "      <td>72.0</td>\n",
              "    </tr>\n",
              "  </tbody>\n",
              "</table>\n",
              "</div>"
            ],
            "text/plain": [
              "   gender  relevent_experience  ...  city_development_index  training_hours\n",
              "0     1.0                  0.0  ...                   0.827            21.0\n",
              "1     0.0                  0.0  ...                   0.920            98.0\n",
              "2     1.0                  1.0  ...                   0.624            15.0\n",
              "3     1.0                  0.0  ...                   0.827            39.0\n",
              "4     1.0                  0.0  ...                   0.920            72.0\n",
              "\n",
              "[5 rows x 11 columns]"
            ]
          },
          "metadata": {
            "tags": []
          },
          "execution_count": 45
        }
      ]
    },
    {
      "cell_type": "code",
      "metadata": {
        "colab": {
          "base_uri": "https://localhost:8080/",
          "height": 710
        },
        "id": "uZ_Aem48khfJ",
        "outputId": "f24b1b5a-d087-48c9-bc11-23994b7ab1c5"
      },
      "source": [
        "plt.figure(figsize=(20,10))\n",
        "sns.heatmap(final_test_data.corr(),annot = True)"
      ],
      "execution_count": null,
      "outputs": [
        {
          "output_type": "execute_result",
          "data": {
            "text/plain": [
              "<matplotlib.axes._subplots.AxesSubplot at 0x7f6bad2add90>"
            ]
          },
          "metadata": {
            "tags": []
          },
          "execution_count": 284
        },
        {
          "output_type": "display_data",
          "data": {
            "image/png": "[encoded data removed]",
            "text/plain": [
              "<Figure size 1440x720 with 2 Axes>"
            ]
          },
          "metadata": {
            "tags": []
          }
        }
      ]
    },
    {
      "cell_type": "code",
      "metadata": {
        "id": "T_A4gtj5koPN"
      },
      "source": [
        "final_test_data = sc.transform(final_test_data)"
      ],
      "execution_count": 46,
      "outputs": []
    },
    {
      "cell_type": "code",
      "metadata": {
        "colab": {
          "base_uri": "https://localhost:8080/"
        },
        "id": "X99Dm-7i5WPb",
        "outputId": "db19ac77-d1ac-4777-8d92-a3e3caf13f26"
      },
      "source": [
        "easy.predict_proba(final_test_data)"
      ],
      "execution_count": null,
      "outputs": [
        {
          "output_type": "execute_result",
          "data": {
            "text/plain": [
              "array([[0.4851188 , 0.5148812 ],\n",
              "       [0.84591428, 0.15408572],\n",
              "       [0.14146669, 0.85853331],\n",
              "       ...,\n",
              "       [0.89300949, 0.10699051],\n",
              "       [0.73171479, 0.26828521],\n",
              "       [0.90664846, 0.09335154]])"
            ]
          },
          "metadata": {
            "tags": []
          },
          "execution_count": 21
        }
      ]
    },
    {
      "cell_type": "code",
      "metadata": {
        "colab": {
          "base_uri": "https://localhost:8080/",
          "height": 416
        },
        "id": "LYafCNje5xR8",
        "outputId": "5ebe06d5-d85a-4510-c32b-e8bb3c0e841a"
      },
      "source": [
        "test_prediction = pd.DataFrame(easy.predict(final_test_data))\n",
        "prediction.value_counts()\n",
        "\n",
        "threshold = 0.5\n",
        "my_pred = np.where(test_prediction>threshold,'Will join the company','Will not join the company')\n",
        "\n",
        "my_pred = my_pred.T.reshape(-1,1)\n",
        "my_pred = pd.DataFrame(my_pred, columns=['Decision'])\n",
        "\n",
        "my_pred = my_pred.join(pd.DataFrame(easy.predict_proba(final_test_data)), lsuffix='_right', rsuffix='_left')\n",
        "my_pred = my_pred.rename({0 : 'Probablity of not joining', 1 : 'Probablity of joining'}, axis=1)\n",
        "my_pred"
      ],
      "execution_count": 48,
      "outputs": [
        {
          "output_type": "execute_result",
          "data": {
            "text/html": [
              "<div>\n",
              "<style scoped>\n",
              "    .dataframe tbody tr th:only-of-type {\n",
              "        vertical-align: middle;\n",
              "    }\n",
              "\n",
              "    .dataframe tbody tr th {\n",
              "        vertical-align: top;\n",
              "    }\n",
              "\n",
              "    .dataframe thead th {\n",
              "        text-align: right;\n",
              "    }\n",
              "</style>\n",
              "<table border=\"1\" class=\"dataframe\">\n",
              "  <thead>\n",
              "    <tr style=\"text-align: right;\">\n",
              "      <th></th>\n",
              "      <th>Decision</th>\n",
              "      <th>Probablity of not joining</th>\n",
              "      <th>Probablity of joining</th>\n",
              "    </tr>\n",
              "  </thead>\n",
              "  <tbody>\n",
              "    <tr>\n",
              "      <th>0</th>\n",
              "      <td>Will join the company</td>\n",
              "      <td>0.449612</td>\n",
              "      <td>0.550388</td>\n",
              "    </tr>\n",
              "    <tr>\n",
              "      <th>1</th>\n",
              "      <td>Will not join the company</td>\n",
              "      <td>0.853942</td>\n",
              "      <td>0.146058</td>\n",
              "    </tr>\n",
              "    <tr>\n",
              "      <th>2</th>\n",
              "      <td>Will join the company</td>\n",
              "      <td>0.126449</td>\n",
              "      <td>0.873551</td>\n",
              "    </tr>\n",
              "    <tr>\n",
              "      <th>3</th>\n",
              "      <td>Will not join the company</td>\n",
              "      <td>0.911890</td>\n",
              "      <td>0.088110</td>\n",
              "    </tr>\n",
              "    <tr>\n",
              "      <th>4</th>\n",
              "      <td>Will not join the company</td>\n",
              "      <td>0.927860</td>\n",
              "      <td>0.072140</td>\n",
              "    </tr>\n",
              "    <tr>\n",
              "      <th>...</th>\n",
              "      <td>...</td>\n",
              "      <td>...</td>\n",
              "      <td>...</td>\n",
              "    </tr>\n",
              "    <tr>\n",
              "      <th>2124</th>\n",
              "      <td>Will not join the company</td>\n",
              "      <td>0.777469</td>\n",
              "      <td>0.222531</td>\n",
              "    </tr>\n",
              "    <tr>\n",
              "      <th>2125</th>\n",
              "      <td>Will join the company</td>\n",
              "      <td>0.198974</td>\n",
              "      <td>0.801026</td>\n",
              "    </tr>\n",
              "    <tr>\n",
              "      <th>2126</th>\n",
              "      <td>Will not join the company</td>\n",
              "      <td>0.908740</td>\n",
              "      <td>0.091260</td>\n",
              "    </tr>\n",
              "    <tr>\n",
              "      <th>2127</th>\n",
              "      <td>Will not join the company</td>\n",
              "      <td>0.710569</td>\n",
              "      <td>0.289431</td>\n",
              "    </tr>\n",
              "    <tr>\n",
              "      <th>2128</th>\n",
              "      <td>Will not join the company</td>\n",
              "      <td>0.908492</td>\n",
              "      <td>0.091508</td>\n",
              "    </tr>\n",
              "  </tbody>\n",
              "</table>\n",
              "<p>2129 rows × 3 columns</p>\n",
              "</div>"
            ],
            "text/plain": [
              "                       Decision  ...  Probablity of joining\n",
              "0         Will join the company  ...               0.550388\n",
              "1     Will not join the company  ...               0.146058\n",
              "2         Will join the company  ...               0.873551\n",
              "3     Will not join the company  ...               0.088110\n",
              "4     Will not join the company  ...               0.072140\n",
              "...                         ...  ...                    ...\n",
              "2124  Will not join the company  ...               0.222531\n",
              "2125      Will join the company  ...               0.801026\n",
              "2126  Will not join the company  ...               0.091260\n",
              "2127  Will not join the company  ...               0.289431\n",
              "2128  Will not join the company  ...               0.091508\n",
              "\n",
              "[2129 rows x 3 columns]"
            ]
          },
          "metadata": {
            "tags": []
          },
          "execution_count": 48
        }
      ]
    },
    {
      "cell_type": "code",
      "metadata": {
        "id": "E3FqQRKxSvdE"
      },
      "source": [
        ""
      ],
      "execution_count": null,
      "outputs": []
    }
  ]
}